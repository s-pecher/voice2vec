{
 "cells": [
  {
   "cell_type": "code",
   "execution_count": 30,
   "metadata": {
    "collapsed": true
   },
   "outputs": [],
   "source": [
    "from bs4 import BeautifulSoup\n",
    "import pandas as pd\n",
    "import urllib\n",
    "from urllib.request import urlopen\n",
    "import re\n",
    "from tqdm import tqdm\n",
    "import pickle\n",
    "import concurrent\n",
    "import numpy as np\n",
    "import os\n",
    "import time\n",
    "from pymongo import MongoClient"
   ]
  },
  {
   "cell_type": "code",
   "execution_count": 2,
   "metadata": {
    "collapsed": false
   },
   "outputs": [],
   "source": [
    "client = MongoClient()\n",
    "db = client.voice"
   ]
  },
  {
   "cell_type": "code",
   "execution_count": 3,
   "metadata": {
    "collapsed": false
   },
   "outputs": [],
   "source": [
    "first_stage = list(db.word.find())\n",
    "ids = [i[\"_id\"] for i in first_stage]"
   ]
  },
  {
   "cell_type": "code",
   "execution_count": 9,
   "metadata": {
    "collapsed": false
   },
   "outputs": [
    {
     "name": "stderr",
     "output_type": "stream",
     "text": [
      "100%|██████████| 28642/28642 [00:17<00:00, 1645.95it/s]\n"
     ]
    }
   ],
   "source": [
    "for l in tqdm(first_stage):\n",
    "    tmp = []\n",
    "\n",
    "    for i in l['pronounces']:\n",
    "        tmp.append(db.voices.insert_one(i).inserted_id)\n",
    "\n",
    "    l['pronounces'] = tmp\n"
   ]
  },
  {
   "cell_type": "code",
   "execution_count": 10,
   "metadata": {
    "collapsed": false
   },
   "outputs": [
    {
     "data": {
      "text/plain": [
       "{'_id': ObjectId('585fbc61698f8208fa0cc408'),\n",
       " 'metadata': {'added': '2010-04-25', 'num_listenings': '192'},\n",
       " 'pronounces': [ObjectId('585fda10698f828c848d862d')],\n",
       " 'word': '0_zero'}"
      ]
     },
     "execution_count": 10,
     "metadata": {},
     "output_type": "execute_result"
    }
   ],
   "source": [
    "first_stage[0]"
   ]
  },
  {
   "cell_type": "code",
   "execution_count": 12,
   "metadata": {
    "collapsed": false
   },
   "outputs": [
    {
     "name": "stderr",
     "output_type": "stream",
     "text": [
      "100%|██████████| 28642/28642 [00:10<00:00, 2770.60it/s]\n"
     ]
    }
   ],
   "source": [
    "for k in tqdm(first_stage):\n",
    "    db.words.insert_one(k)"
   ]
  },
  {
   "cell_type": "code",
   "execution_count": 27,
   "metadata": {
    "collapsed": true
   },
   "outputs": [],
   "source": [
    "download = lambda path, url: \"curl -s -o {0} '{1}' -H 'Accept-Encoding: gzip, deflate, sdch, br' -H 'Accept-Language: ru-RU,ru;q=0.8,en-US;q=0.6,en;q=0.4' -H 'Upgrade-Insecure-Requests: 1' -H 'User-Agent: Mozilla/5.0 (X11; Linux x86_64) AppleWebKit/537.36 (KHTML, like Gecko) Chrome/55.0.2883.87 Safari/537.36' -H 'Accept: text/html,application/xhtml+xml,application/xml;q=0.9,image/webp,*/*;q=0.8' -H 'Cookie: forvo_cookies=1; G_ENABLED_IDPS=google; PHPSESSID=ovj7vi6ieo2e6p056ti05rb935; _gat=1; _ga=GA1.2.280471608.1482332671' -H 'Connection: keep-alive' --compressed\".format(path, url)"
   ]
  },
  {
   "cell_type": "code",
   "execution_count": null,
   "metadata": {
    "collapsed": false
   },
   "outputs": [
    {
     "name": "stderr",
     "output_type": "stream",
     "text": [
      "\n",
      "0it [00:00, ?it/s]\u001b[A\n",
      "\u001b[A\n",
      "1it [00:00,  3.99it/s]\u001b[A\n",
      "\u001b[A\n",
      "2it [00:00,  3.94it/s]\u001b[A\n",
      "\u001b[A\n",
      "3it [00:00,  3.96it/s]\u001b[A\n",
      "\u001b[A\n",
      "4it [00:01,  3.83it/s]\u001b[A\n",
      "\u001b[A\n",
      "5it [00:01,  3.76it/s]\u001b[A\n",
      "\u001b[A\n",
      "6it [00:01,  3.79it/s]\u001b[A\n",
      "\u001b[A\n",
      "7it [00:01,  3.86it/s]\u001b[A\n",
      "\u001b[A\n",
      "8it [00:02,  3.78it/s]\u001b[A\n",
      "\u001b[A\n",
      "9it [00:02,  3.84it/s]\u001b[A\n",
      "\u001b[A\n",
      "10it [00:02,  3.90it/s]\u001b[A\n",
      "\u001b[A\n",
      "11it [00:02,  3.89it/s]\u001b[A\n",
      "\u001b[A\n",
      "12it [00:03,  3.91it/s]\u001b[A\n",
      "\u001b[A\n",
      "13it [00:03,  3.86it/s]\u001b[A\n",
      "\u001b[A\n",
      "Exception in thread Thread-7:\n",
      "Traceback (most recent call last):\n",
      "  File \"/anaconda3/lib/python3.5/threading.py\", line 914, in _bootstrap_inner\n",
      "    self.run()\n",
      "  File \"/anaconda3/lib/python3.5/site-packages/tqdm/_tqdm.py\", line 102, in run\n",
      "    for instance in self.tqdm_cls._instances:\n",
      "  File \"/anaconda3/lib/python3.5/_weakrefset.py\", line 60, in __iter__\n",
      "    for itemref in self.data:\n",
      "RuntimeError: Set changed size during iteration\n",
      "\n",
      "449it [01:52,  3.89it/s]"
     ]
    }
   ],
   "source": [
    "for item in tqdm(db.voices.find()):\n",
    "    !{download(\"mongodb/sounds/%s.mp3\" % str(item[\"_id\"]), item[\"href\"])}"
   ]
  },
  {
   "cell_type": "code",
   "execution_count": 35,
   "metadata": {
    "collapsed": false
   },
   "outputs": [],
   "source": [
    "ids = [i[:-4] for i in os.listdir(\"mongodb/sounds\")]"
   ]
  },
  {
   "cell_type": "code",
   "execution_count": 36,
   "metadata": {
    "collapsed": false
   },
   "outputs": [
    {
     "name": "stderr",
     "output_type": "stream",
     "text": [
      "51223it [00:27, 1849.26it/s]\n"
     ]
    }
   ],
   "source": [
    "for item in tqdm(db.voices.find()):\n",
    "    if str(item[\"_id\"]) not in ids:\n",
    "        print(\"lol\")\n",
    "        break"
   ]
  },
  {
   "cell_type": "code",
   "execution_count": 39,
   "metadata": {
    "collapsed": false
   },
   "outputs": [
    {
     "name": "stderr",
     "output_type": "stream",
     "text": [
      "100%|██████████| 51223/51223 [1:50:28<00:00,  7.74it/s]\n"
     ]
    }
   ],
   "source": [
    "for _id in tqdm(ids):\n",
    "    !mpg123 -q -w {\"mongodb/sounds/\" + _id + \".wav\"} {\"mongodb/sounds/\" + _id + \".mp3\"}"
   ]
  },
  {
   "cell_type": "code",
   "execution_count": 40,
   "metadata": {
    "collapsed": true
   },
   "outputs": [],
   "source": [
    "from multiprocessing import Pool"
   ]
  },
  {
   "cell_type": "code",
   "execution_count": 42,
   "metadata": {
    "collapsed": false
   },
   "outputs": [
    {
     "data": {
      "text/plain": [
       "51223.0"
      ]
     },
     "execution_count": 42,
     "metadata": {},
     "output_type": "execute_result"
    }
   ],
   "source": [
    "len(os.listdir(\"mongodb/sounds\"))/2"
   ]
  },
  {
   "cell_type": "code",
   "execution_count": null,
   "metadata": {
    "collapsed": true
   },
   "outputs": [],
   "source": [
    "len(ids)"
   ]
  },
  {
   "cell_type": "code",
   "execution_count": null,
   "metadata": {
    "collapsed": true
   },
   "outputs": [],
   "source": []
  }
 ],
 "metadata": {
  "anaconda-cloud": {},
  "kernelspec": {
   "display_name": "Python 3",
   "language": "python",
   "name": "python3"
  },
  "language_info": {
   "codemirror_mode": {
    "name": "ipython",
    "version": 3
   },
   "file_extension": ".py",
   "mimetype": "text/x-python",
   "name": "python",
   "nbconvert_exporter": "python",
   "pygments_lexer": "ipython3",
   "version": "3.5.2"
  }
 },
 "nbformat": 4,
 "nbformat_minor": 1
}
