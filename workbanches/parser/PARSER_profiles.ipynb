{
 "cells": [
  {
   "cell_type": "code",
   "execution_count": 50,
   "metadata": {
    "collapsed": true
   },
   "outputs": [],
   "source": [
    "from bs4 import BeautifulSoup\n",
    "import pandas as pd\n",
    "import urllib\n",
    "from urllib.request import urlopen\n",
    "import re\n",
    "from tqdm import tqdm\n",
    "import pickle\n",
    "import concurrent\n",
    "import numpy as np\n",
    "import time\n",
    "from pymongo import MongoClient"
   ]
  },
  {
   "cell_type": "code",
   "execution_count": 41,
   "metadata": {
    "collapsed": false
   },
   "outputs": [],
   "source": [
    "client = MongoClient()\n",
    "db = client.voice"
   ]
  },
  {
   "cell_type": "code",
   "execution_count": 42,
   "metadata": {
    "collapsed": false
   },
   "outputs": [],
   "source": [
    "first_stage = list(db.word.find())\n",
    "ids = [i[\"_id\"] for i in first_stage]"
   ]
  },
  {
   "cell_type": "code",
   "execution_count": 43,
   "metadata": {
    "collapsed": false
   },
   "outputs": [],
   "source": [
    "authors = set()\n",
    "\n",
    "for i in first_stage:\n",
    "    for j in i[\"pronounces\"]:\n",
    "        authors.add(j[\"author\"])"
   ]
  },
  {
   "cell_type": "code",
   "execution_count": 44,
   "metadata": {
    "collapsed": false
   },
   "outputs": [],
   "source": [
    "def get_user(user):\n",
    "    url = \"https://forvo.com/user/\" + user\n",
    "    html = urlopen(url).read().decode()\n",
    "    root = BeautifulSoup(html, \"html.parser\")\n",
    "    root = root.find(\"article\", {\"class\": \"user_info\"})\n",
    "\n",
    "    answer = {}\n",
    "    for i in root.findAll(\"li\"):\n",
    "        if \"Gender\" in i.text:\n",
    "            answer[\"gender\"] = i.find(\"strong\").text\n",
    "\n",
    "        elif \"Accent/country\" in i.text:\n",
    "            answer[\"accent\"] = i.find(\"strong\").text\n",
    "\n",
    "        elif \"Pronunciations\" in i.text:\n",
    "            answer[\"pronunciations\"] = i.text\n",
    "\n",
    "        elif \"Visits\" in i.text:\n",
    "            answer[\"visits\"] = i.find(\"strong\").text\n",
    "\n",
    "        elif \"Position by added words\" in i.text:\n",
    "            answer[\"word_rank\"] = i.find(\"strong\").text\n",
    "\n",
    "        elif \"Position by pronunciations\" in i.text:\n",
    "            answer[\"pronun_rank\"] = i.find(\"strong\").text\n",
    "\n",
    "    answer[\"user\"] = user\n",
    "    db.authors.insert_one(answer)\n",
    "    "
   ]
  },
  {
   "cell_type": "code",
   "execution_count": 47,
   "metadata": {
    "collapsed": false
   },
   "outputs": [
    {
     "name": "stderr",
     "output_type": "stream",
     "text": [
      "100%|██████████| 4456/4456 [13:26<00:00,  6.08it/s]\n"
     ]
    }
   ],
   "source": [
    "for author in tqdm(authors):\n",
    "    try:\n",
    "        get_user(author)\n",
    "    except AttributeError:\n",
    "        pass"
   ]
  },
  {
   "cell_type": "code",
   "execution_count": null,
   "metadata": {
    "collapsed": false
   },
   "outputs": [
    {
     "name": "stdout",
     "output_type": "stream",
     "text": [
      " New author dianada"
     ]
    }
   ],
   "source": [
    "while True:\n",
    "    for obj in list(db.word.find({'_id': { '$nin': ids}})):\n",
    "        ids.append(obj[\"_id\"])\n",
    "        for pronounce in obj[\"pronounces\"]:\n",
    "            author = pronounce[\"author\"]\n",
    "            \n",
    "            if author not in authors:\n",
    "                authors.add(author)\n",
    "                try:\n",
    "                    get_user(author)\n",
    "                except AttributeError:\n",
    "                    pass\n",
    "                print(\"\\r\", \"New author \" + author, end = \"\")\n",
    "    time.sleep(5)"
   ]
  },
  {
   "cell_type": "code",
   "execution_count": null,
   "metadata": {
    "collapsed": true
   },
   "outputs": [],
   "source": []
  }
 ],
 "metadata": {
  "anaconda-cloud": {},
  "kernelspec": {
   "display_name": "Python 3",
   "language": "python",
   "name": "python3"
  },
  "language_info": {
   "codemirror_mode": {
    "name": "ipython",
    "version": 3
   },
   "file_extension": ".py",
   "mimetype": "text/x-python",
   "name": "python",
   "nbconvert_exporter": "python",
   "pygments_lexer": "ipython3",
   "version": "3.5.2"
  }
 },
 "nbformat": 4,
 "nbformat_minor": 1
}
