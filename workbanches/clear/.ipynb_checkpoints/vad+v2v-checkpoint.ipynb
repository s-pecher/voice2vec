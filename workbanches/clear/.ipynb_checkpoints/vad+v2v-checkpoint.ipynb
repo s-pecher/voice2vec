{
 "cells": [
  {
   "cell_type": "code",
   "execution_count": 1,
   "metadata": {
    "collapsed": false
   },
   "outputs": [
    {
     "name": "stdout",
     "output_type": "stream",
     "text": [
      "env: THEANO_FLAGS=\"device=gpu7\"\n"
     ]
    }
   ],
   "source": [
    "%env THEANO_FLAGS=\"device=gpu7\""
   ]
  },
  {
   "cell_type": "code",
   "execution_count": 2,
   "metadata": {
    "collapsed": false
   },
   "outputs": [
    {
     "name": "stderr",
     "output_type": "stream",
     "text": [
      "ERROR (theano.sandbox.cuda): nvcc compiler not found on $PATH. Check your nvcc installation and try again.\n"
     ]
    }
   ],
   "source": [
    "from CoolSoundNetwork import Network\n",
    "from tqdm import tqdm_notebook\n",
    "import numpy as np\n",
    "from librosa import load, logamplitude\n",
    "from librosa.feature import melspectrogram\n",
    "import matplotlib.pyplot as plt\n",
    "import math\n",
    "from tqdm import tqdm_notebook\n",
    "import scipy.io.wavfile as wav\n",
    "import numpy as np\n",
    "import pandas as pd\n",
    "import numpy as np\n",
    "from PIL import Image\n",
    "import numpy as np\n",
    "import theano.tensor as T\n",
    "import theano\n",
    "%matplotlib inline"
   ]
  },
  {
   "cell_type": "code",
   "execution_count": 3,
   "metadata": {
    "collapsed": false
   },
   "outputs": [],
   "source": [
    "def normalize():\n",
    "    the_list = T.vector(dtype='float64')\n",
    "    normalized = the_list / the_list.max()  \n",
    "    return theano.function([the_list], normalized)\n",
    "\n",
    "normalize = normalize()\n",
    "\n",
    "def get_energy():\n",
    "    sample = T.vector(dtype='int64')\n",
    "    window_size = T.scalar(dtype = 'int16')\n",
    "    \n",
    "    sample_sq = sample ** 2\n",
    "    padded_sample = T.concatenate([T.zeros([window_size]), sample_sq])\n",
    "    cumsum = T.cumsum(padded_sample)\n",
    "    energy = cumsum[window_size:] - cumsum[:-window_size]\n",
    "    \n",
    "    return theano.function([sample, window_size], energy)\n",
    "\n",
    "get_energy = get_energy()\n",
    "\n",
    "\n",
    "def predict_by_energy(signal, rate, window_size = 30, threshold = 0.3):\n",
    "    '''\n",
    "        :param signal: the array with signal\n",
    "        :param rate: signal rate\n",
    "        :param window_size_30: size of frame in ms\n",
    "        :param threshold: threshold of prediction (from 0 to 1)\n",
    "    '''\n",
    "    \n",
    "    window_size = int(window_size * (rate/1000))\n",
    "    \n",
    "    energy_answer = [True if i > threshold else False for i in normalize(get_energy(signal, window_size))]\n",
    "   \n",
    "    return list(zip(signal, energy_answer))\n",
    "\n",
    "def predict_by_magnitude(signal, rate, window_size = 30, threshold = 0.3):\n",
    "    '''\n",
    "        :param signal: the array with signal\n",
    "        :param rate: signal rate\n",
    "        :param window_size_30: size of frame in ms\n",
    "        :param threshold: threshold of prediction (from 0 to 1)\n",
    "    '''\n",
    "    \n",
    "    window_size = int(window_size * (rate/1000))\n",
    "    \n",
    "    magnitude_answer = [True if i > threshold else False for i in normalize(magnitude(signal, window_size))]\n",
    "    \n",
    "    return list(zip(signal, magnitude_answer))\n",
    "\n",
    "\n",
    "def predict_by_zcr(signal, rate, window_size = 30, threshold = 0.3):\n",
    "    '''\n",
    "        :param signal: the array with signal\n",
    "        :param rate: signal rate\n",
    "        :param window_size_30: size of frame in ms\n",
    "        :param threshold: threshold of prediction (from 0 to 1)\n",
    "    '''\n",
    "    \n",
    "    window_size = int(window_size * (rate/1000))\n",
    "    \n",
    "    zcr = [True if i > threshold else False for i in normalize(zcr(signal, window_size))]\n",
    "\n",
    "    return list(zip(signal, zcr))\n",
    "\n",
    "def get_spectrogram(y, sr):\n",
    "    S = melspectrogram(y, sr=sr, n_mels=513)\n",
    "    log_S = logamplitude(S, ref_power=np.max)\n",
    "    return log_S"
   ]
  },
  {
   "cell_type": "code",
   "execution_count": 4,
   "metadata": {
    "collapsed": false
   },
   "outputs": [
    {
     "name": "stderr",
     "output_type": "stream",
     "text": [
      "WARNING (theano.tensor.blas): We did not found a dynamic library into the library_dir of the library we use for blas. If you use ATLAS, make sure to compile it with dynamics library.\n",
      "WARNING (theano.tensor.blas): We did not found a dynamic library into the library_dir of the library we use for blas. If you use ATLAS, make sure to compile it with dynamics library.\n"
     ]
    }
   ],
   "source": [
    "net = Network()"
   ]
  },
  {
   "cell_type": "code",
   "execution_count": 6,
   "metadata": {
    "collapsed": false
   },
   "outputs": [],
   "source": [
    "# Загружаем звук\n",
    "sampling_rate, sample =  wav.read(\"Converted_file_75382a09.wav\")"
   ]
  },
  {
   "cell_type": "code",
   "execution_count": 9,
   "metadata": {
    "collapsed": false
   },
   "outputs": [],
   "source": [
    "predicted = predict_by_energy(np.array([i[0] for i in sample]), sampling_rate)"
   ]
  },
  {
   "cell_type": "code",
   "execution_count": 10,
   "metadata": {
    "collapsed": false
   },
   "outputs": [
    {
     "name": "stdout",
     "output_type": "stream",
     "text": [
      "\n"
     ]
    }
   ],
   "source": [
    "old = False\n",
    "indel = 0\n",
    "tmp = []\n",
    "answer = []\n",
    "\n",
    "for i in tqdm_notebook(predicted):\n",
    "    if not old and i[1]:\n",
    "        tmp.append(i[0])\n",
    "        old = True\n",
    "    elif old and i[1]:\n",
    "        tmp.append(i[0])\n",
    "        old = True\n",
    "    elif old and not i[1]:\n",
    "        if indel > 3:\n",
    "            answer.append(tmp)\n",
    "            tmp = []\n",
    "            indel = 0\n",
    "        else:\n",
    "            answer.append(tmp)\n",
    "            indel+=1"
   ]
  },
  {
   "cell_type": "code",
   "execution_count": 11,
   "metadata": {
    "collapsed": true
   },
   "outputs": [],
   "source": [
    "answer = list(filter(lambda x: len(x) > 0, answer))"
   ]
  },
  {
   "cell_type": "code",
   "execution_count": 16,
   "metadata": {
    "collapsed": false
   },
   "outputs": [
    {
     "name": "stdout",
     "output_type": "stream",
     "text": [
      "(4, 513)\n",
      "(1, 513)\n",
      "(11, 513)\n",
      "(3, 513)\n",
      "(11, 513)\n",
      "(1, 513)\n",
      "(1, 513)\n",
      "(1, 513)\n",
      "(8, 513)\n",
      "(18, 513)\n"
     ]
    }
   ],
   "source": [
    "_all = []\n",
    "for i in answer:\n",
    "    try:\n",
    "        _all.append(net.vectorizer(voice_array=get_spectrogram(np.array(i), sampling_rate).T))\n",
    "    except ValueError:\n",
    "        print(get_spectrogram(np.array(i), sampling_rate).T.shape)"
   ]
  },
  {
   "cell_type": "code",
   "execution_count": 13,
   "metadata": {
    "collapsed": false
   },
   "outputs": [
    {
     "data": {
      "text/plain": [
       "[]"
      ]
     },
     "execution_count": 13,
     "metadata": {},
     "output_type": "execute_result"
    }
   ],
   "source": [
    "_all"
   ]
  },
  {
   "cell_type": "code",
   "execution_count": null,
   "metadata": {
    "collapsed": false
   },
   "outputs": [],
   "source": [
    "from sklearn.metrics.pairwise import cosine_similarity"
   ]
  },
  {
   "cell_type": "code",
   "execution_count": null,
   "metadata": {
    "collapsed": false
   },
   "outputs": [],
   "source": [
    "l = []\n",
    "for a in _all:\n",
    "    for b in _all:\n",
    "        l.append(cosine_similarity(a[0], b[0]))"
   ]
  },
  {
   "cell_type": "code",
   "execution_count": null,
   "metadata": {
    "collapsed": false
   },
   "outputs": [],
   "source": [
    "l"
   ]
  },
  {
   "cell_type": "code",
   "execution_count": null,
   "metadata": {
    "collapsed": true
   },
   "outputs": [],
   "source": [
    "!ls"
   ]
  },
  {
   "cell_type": "code",
   "execution_count": null,
   "metadata": {
    "collapsed": true
   },
   "outputs": [],
   "source": []
  }
 ],
 "metadata": {
  "anaconda-cloud": {},
  "kernelspec": {
   "display_name": "Python 3",
   "language": "python",
   "name": "python3"
  },
  "language_info": {
   "codemirror_mode": {
    "name": "ipython",
    "version": 3
   },
   "file_extension": ".py",
   "mimetype": "text/x-python",
   "name": "python",
   "nbconvert_exporter": "python",
   "pygments_lexer": "ipython3",
   "version": "3.5.2"
  }
 },
 "nbformat": 4,
 "nbformat_minor": 1
}
