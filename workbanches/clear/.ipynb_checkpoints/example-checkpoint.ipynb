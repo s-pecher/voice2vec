{
 "cells": [
  {
   "cell_type": "code",
   "execution_count": null,
   "metadata": {
    "collapsed": false
   },
   "outputs": [],
   "source": [
    "# Our sound network\n",
    "from CoolSoundNetwork import Network\n",
    "\n",
    "# Scipy for sound\n",
    "import scipy.io.wavfile as wav\n",
    "\n",
    "# VAD\n",
    "from tools import *\n",
    "\n",
    "# Status bar\n",
    "from tqdm import tqdm_notebook\n",
    "\n",
    "# Numpy\n",
    "import numpy as np"
   ]
  },
  {
   "cell_type": "markdown",
   "metadata": {},
   "source": [
    "# Create network"
   ]
  },
  {
   "cell_type": "code",
   "execution_count": null,
   "metadata": {
    "collapsed": false
   },
   "outputs": [],
   "source": [
    "network = Network(vectorizer_weights_file_name='../../data/vectorizer_weights.npy')"
   ]
  },
  {
   "cell_type": "markdown",
   "metadata": {},
   "source": [
    "# Load sound"
   ]
  },
  {
   "cell_type": "code",
   "execution_count": null,
   "metadata": {
    "collapsed": false
   },
   "outputs": [],
   "source": [
    "sampling_rate, sample = wav.read(\"1.wav\")"
   ]
  },
  {
   "cell_type": "markdown",
   "metadata": {},
   "source": [
    "# View results"
   ]
  },
  {
   "cell_type": "code",
   "execution_count": null,
   "metadata": {
    "collapsed": false
   },
   "outputs": [],
   "source": [
    "predicted = predict_by_energy([i[0] for i in sample], sampling_rate)"
   ]
  },
  {
   "cell_type": "code",
   "execution_count": null,
   "metadata": {
    "collapsed": true
   },
   "outputs": [],
   "source": [
    "import matplotlib.pyplot as plt\n",
    "%matplotlib inline"
   ]
  },
  {
   "cell_type": "code",
   "execution_count": null,
   "metadata": {
    "collapsed": false
   },
   "outputs": [],
   "source": [
    "plt.plot([(i[0], 19990 if i[1] else -19990) for i in predicted])\n",
    "plt.xlabel(\"time\")\n",
    "plt.ylabel(\"freq\")"
   ]
  },
  {
   "cell_type": "code",
   "execution_count": null,
   "metadata": {
    "collapsed": false
   },
   "outputs": [],
   "source": [
    "old = False\n",
    "tmp = []\n",
    "answer = []\n",
    "\n",
    "for i in tqdm_notebook(predicted):\n",
    "    if not old and i[1]:\n",
    "        tmp.append(i[0])\n",
    "        old = True\n",
    "    elif old and i[1]:\n",
    "        tmp.append(i[0])\n",
    "        old = True\n",
    "    elif old and not i[1]:\n",
    "        answer.append(tmp)\n",
    "        tmp = []\n",
    "        indel = 0"
   ]
  },
  {
   "cell_type": "code",
   "execution_count": null,
   "metadata": {
    "collapsed": false
   },
   "outputs": [],
   "source": [
    "answer = list(filter(lambda x: len(x) > 0, answer))"
   ]
  },
  {
   "cell_type": "code",
   "execution_count": null,
   "metadata": {
    "collapsed": false
   },
   "outputs": [],
   "source": [
    "len(answer)"
   ]
  },
  {
   "cell_type": "code",
   "execution_count": null,
   "metadata": {
    "collapsed": true
   },
   "outputs": [],
   "source": [
    "from librosa import load, logamplitude\n",
    "from librosa.feature import melspectrogram\n",
    "\n",
    "def get_spectrogram(y, sr):\n",
    "    S = melspectrogram(y, sr=sr, n_mels=513)\n",
    "    log_S = logamplitude(S, ref_power=np.max)\n",
    "    return log_S"
   ]
  },
  {
   "cell_type": "code",
   "execution_count": null,
   "metadata": {
    "collapsed": false
   },
   "outputs": [],
   "source": [
    "_all = []\n",
    "for i in tqdm_notebook(answer):\n",
    "    try:\n",
    "        _all.append(network.vectorizer(voice_array=get_spectrogram(np.array(i), sampling_rate).T))\n",
    "    except ValueError:\n",
    "        print(get_spectrogram(np.array(i), sampling_rate).T.shape)"
   ]
  },
  {
   "cell_type": "code",
   "execution_count": null,
   "metadata": {
    "collapsed": true
   },
   "outputs": [],
   "source": [
    "import theano.tensor as T\n",
    "def distance_sq(x1, x2):\n",
    "    return T.sum(T.sqr(x1 - x2))"
   ]
  },
  {
   "cell_type": "code",
   "execution_count": null,
   "metadata": {
    "collapsed": true
   },
   "outputs": [],
   "source": []
  }
 ],
 "metadata": {
  "anaconda-cloud": {},
  "kernelspec": {
   "display_name": "Python 3",
   "language": "python",
   "name": "python3"
  },
  "language_info": {
   "codemirror_mode": {
    "name": "ipython",
    "version": 3
   },
   "file_extension": ".py",
   "mimetype": "text/x-python",
   "name": "python",
   "nbconvert_exporter": "python",
   "pygments_lexer": "ipython3",
   "version": "3.5.2"
  }
 },
 "nbformat": 4,
 "nbformat_minor": 1
}
