{
 "cells": [
  {
   "cell_type": "code",
   "execution_count": 1,
   "metadata": {
    "collapsed": false
   },
   "outputs": [],
   "source": [
    "# Our sound network\n",
    "from CoolSoundNetwork import Network\n",
    "\n",
    "# Scipy for sound\n",
    "import scipy.io.wavfile as wav\n",
    "\n",
    "# VAD\n",
    "from tools import predict_by_energy\n",
    "\n",
    "# Status bar\n",
    "from tqdm import tqdm_notebook\n",
    "\n",
    "# Numpy\n",
    "import numpy as np"
   ]
  },
  {
   "cell_type": "markdown",
   "metadata": {},
   "source": [
    "# Create network"
   ]
  },
  {
   "cell_type": "code",
   "execution_count": 2,
   "metadata": {
    "collapsed": false
   },
   "outputs": [
    {
     "name": "stderr",
     "output_type": "stream",
     "text": [
      "WARNING (theano.tensor.blas): We did not found a dynamic library into the library_dir of the library we use for blas. If you use ATLAS, make sure to compile it with dynamics library.\n"
     ]
    }
   ],
   "source": [
    "network = Network(load_weights=False, vec_weights_file_name='../../data/weights.npy')"
   ]
  },
  {
   "cell_type": "markdown",
   "metadata": {},
   "source": [
    "# Load sound"
   ]
  },
  {
   "cell_type": "code",
   "execution_count": 3,
   "metadata": {
    "collapsed": false
   },
   "outputs": [],
   "source": [
    "sampling_rate, sample = wav.read(\"1.wav\")"
   ]
  },
  {
   "cell_type": "markdown",
   "metadata": {},
   "source": [
    "# View results"
   ]
  },
  {
   "cell_type": "code",
   "execution_count": 4,
   "metadata": {
    "collapsed": false
   },
   "outputs": [],
   "source": [
    "predicted = predict_by_energy([i[0] for i in sample], sampling_rate)"
   ]
  },
  {
   "cell_type": "code",
   "execution_count": 5,
   "metadata": {
    "collapsed": false
   },
   "outputs": [
    {
     "name": "stdout",
     "output_type": "stream",
     "text": [
      "\n"
     ]
    }
   ],
   "source": [
    "old = False\n",
    "indel = 0\n",
    "tmp = []\n",
    "answer = []\n",
    "\n",
    "for i in tqdm_notebook(predicted):\n",
    "    if not old and i[1]:\n",
    "        tmp.append(i[0])\n",
    "        old = True\n",
    "    elif old and i[1]:\n",
    "        tmp.append(i[0])\n",
    "        old = True\n",
    "    elif old and not i[1]:\n",
    "        if indel > 3:\n",
    "            answer.append(tmp)\n",
    "            tmp = []\n",
    "            indel = 0\n",
    "        else:\n",
    "            answer.append(tmp)\n",
    "            indel+=1"
   ]
  },
  {
   "cell_type": "code",
   "execution_count": 8,
   "metadata": {
    "collapsed": false
   },
   "outputs": [],
   "source": [
    "answer = list(filter(lambda x: len(x) > 0, answer))"
   ]
  },
  {
   "cell_type": "code",
   "execution_count": 9,
   "metadata": {
    "collapsed": true
   },
   "outputs": [],
   "source": [
    "from librosa import load, logamplitude\n",
    "from librosa.feature import melspectrogram\n",
    "\n",
    "def get_spectrogram(y, sr):\n",
    "    S = melspectrogram(y, sr=sr, n_mels=513)\n",
    "    log_S = logamplitude(S, ref_power=np.max)\n",
    "    return log_S"
   ]
  },
  {
   "cell_type": "code",
   "execution_count": 10,
   "metadata": {
    "collapsed": false
   },
   "outputs": [
    {
     "name": "stdout",
     "output_type": "stream",
     "text": [
      "\n"
     ]
    }
   ],
   "source": [
    "_all = []\n",
    "for i in tqdm_notebook(answer):\n",
    "    try:\n",
    "        _all.append(network.vectorizer(voice_array=get_spectrogram(np.array(i), sampling_rate).T))\n",
    "    except ValueError:\n",
    "        print(get_spectrogram(np.array(i), sampling_rate).T.shape)"
   ]
  },
  {
   "cell_type": "code",
   "execution_count": 14,
   "metadata": {
    "collapsed": false
   },
   "outputs": [],
   "source": [
    "# Let's check cosine similarity\n",
    "from sklearn.metrics.pairwise import cosine_similarity"
   ]
  },
  {
   "cell_type": "code",
   "execution_count": null,
   "metadata": {
    "collapsed": true
   },
   "outputs": [],
   "source": []
  }
 ],
 "metadata": {
  "anaconda-cloud": {},
  "kernelspec": {
   "display_name": "Python 3",
   "language": "python",
   "name": "python3"
  },
  "language_info": {
   "codemirror_mode": {
    "name": "ipython",
    "version": 3
   },
   "file_extension": ".py",
   "mimetype": "text/x-python",
   "name": "python",
   "nbconvert_exporter": "python",
   "pygments_lexer": "ipython3",
   "version": "3.5.2"
  },
  "widgets": {
   "state": {
    "4b40aaf5b1094b66b843c2fb47448121": {
     "views": [
      {
       "cell_index": 10
      }
     ]
    },
    "4ff726611aa74f35b909dcb2ef8e2202": {
     "views": [
      {
       "cell_index": 7
      }
     ]
    }
   },
   "version": "1.2.0"
  }
 },
 "nbformat": 4,
 "nbformat_minor": 1
}
