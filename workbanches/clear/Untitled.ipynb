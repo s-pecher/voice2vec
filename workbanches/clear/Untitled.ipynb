{
 "cells": [
  {
   "cell_type": "code",
   "execution_count": 1,
   "metadata": {
    "collapsed": true
   },
   "outputs": [],
   "source": [
    "from sklearn.metrics.pairwise import cosine_similarity"
   ]
  },
  {
   "cell_type": "code",
   "execution_count": 2,
   "metadata": {
    "collapsed": true
   },
   "outputs": [],
   "source": [
    "from CoolSoundNetwork import Network"
   ]
  },
  {
   "cell_type": "code",
   "execution_count": 7,
   "metadata": {
    "collapsed": true
   },
   "outputs": [],
   "source": [
    "import numpy as np"
   ]
  },
  {
   "cell_type": "code",
   "execution_count": 3,
   "metadata": {
    "collapsed": false
   },
   "outputs": [
    {
     "name": "stderr",
     "output_type": "stream",
     "text": [
      "WARNING (theano.tensor.blas): We did not found a dynamic library into the library_dir of the library we use for blas. If you use ATLAS, make sure to compile it with dynamics library.\n"
     ]
    }
   ],
   "source": [
    "network = Network(vectorizer_weights_file_name='../../data/vectorizer_weights.npy', \n",
    "                  similar_weights_file_name=\"../../data/simvoice_weights.npy\")"
   ]
  },
  {
   "cell_type": "code",
   "execution_count": 8,
   "metadata": {
    "collapsed": false
   },
   "outputs": [
    {
     "name": "stderr",
     "output_type": "stream",
     "text": [
      "/home/tvorog/voice2vec/workbanches/clear/CoolSoundNetwork.py:41: VisibleDeprecationWarning: using a non-integer number instead of an integer will result in an error in the future\n",
      "  samples = np.append(np.zeros(np.floor(frameSize/2.0)), sig)\n",
      "/anaconda3/lib/python3.5/site-packages/numpy/core/numeric.py:482: VisibleDeprecationWarning: using a non-integer number instead of an integer will result in an error in the future\n",
      "  return array(a, dtype, copy=False, order=order)\n",
      "/home/tvorog/voice2vec/workbanches/clear/CoolSoundNetwork.py:66: VisibleDeprecationWarning: using a non-integer number instead of an integer will result in an error in the future\n",
      "  newspec[:,i] = np.sum(spec[:,scale[i]:scale[i+1]], axis=1)\n",
      "/home/tvorog/voice2vec/workbanches/clear/CoolSoundNetwork.py:64: VisibleDeprecationWarning: using a non-integer number instead of an integer will result in an error in the future\n",
      "  newspec[:,i] = np.sum(spec[:,scale[i]:], axis=1)\n",
      "/home/tvorog/voice2vec/workbanches/clear/CoolSoundNetwork.py:75: VisibleDeprecationWarning: using a non-integer number instead of an integer will result in an error in the future\n",
      "  freqs += [np.mean(allfreqs[scale[i]:scale[i+1]])]\n",
      "/home/tvorog/voice2vec/workbanches/clear/CoolSoundNetwork.py:73: VisibleDeprecationWarning: using a non-integer number instead of an integer will result in an error in the future\n",
      "  freqs += [np.mean(allfreqs[scale[i]:])]\n"
     ]
    }
   ],
   "source": [
    "b = np.mean(network.vectorizer(path=\"Maks.wav\"), axis=0)"
   ]
  },
  {
   "cell_type": "code",
   "execution_count": 9,
   "metadata": {
    "collapsed": false
   },
   "outputs": [
    {
     "name": "stderr",
     "output_type": "stream",
     "text": [
      "/home/tvorog/voice2vec/workbanches/clear/CoolSoundNetwork.py:41: VisibleDeprecationWarning: using a non-integer number instead of an integer will result in an error in the future\n",
      "  samples = np.append(np.zeros(np.floor(frameSize/2.0)), sig)\n",
      "/anaconda3/lib/python3.5/site-packages/numpy/core/numeric.py:482: VisibleDeprecationWarning: using a non-integer number instead of an integer will result in an error in the future\n",
      "  return array(a, dtype, copy=False, order=order)\n",
      "/home/tvorog/voice2vec/workbanches/clear/CoolSoundNetwork.py:66: VisibleDeprecationWarning: using a non-integer number instead of an integer will result in an error in the future\n",
      "  newspec[:,i] = np.sum(spec[:,scale[i]:scale[i+1]], axis=1)\n",
      "/home/tvorog/voice2vec/workbanches/clear/CoolSoundNetwork.py:64: VisibleDeprecationWarning: using a non-integer number instead of an integer will result in an error in the future\n",
      "  newspec[:,i] = np.sum(spec[:,scale[i]:], axis=1)\n",
      "/home/tvorog/voice2vec/workbanches/clear/CoolSoundNetwork.py:75: VisibleDeprecationWarning: using a non-integer number instead of an integer will result in an error in the future\n",
      "  freqs += [np.mean(allfreqs[scale[i]:scale[i+1]])]\n",
      "/home/tvorog/voice2vec/workbanches/clear/CoolSoundNetwork.py:73: VisibleDeprecationWarning: using a non-integer number instead of an integer will result in an error in the future\n",
      "  freqs += [np.mean(allfreqs[scale[i]:])]\n"
     ]
    }
   ],
   "source": [
    "a = np.mean(network.vectorizer(path=\"Dima.wav\"), axis=0)"
   ]
  },
  {
   "cell_type": "code",
   "execution_count": 11,
   "metadata": {
    "collapsed": false
   },
   "outputs": [
    {
     "name": "stderr",
     "output_type": "stream",
     "text": [
      "/home/tvorog/voice2vec/workbanches/clear/CoolSoundNetwork.py:41: VisibleDeprecationWarning: using a non-integer number instead of an integer will result in an error in the future\n",
      "  samples = np.append(np.zeros(np.floor(frameSize/2.0)), sig)\n",
      "/anaconda3/lib/python3.5/site-packages/numpy/core/numeric.py:482: VisibleDeprecationWarning: using a non-integer number instead of an integer will result in an error in the future\n",
      "  return array(a, dtype, copy=False, order=order)\n",
      "/home/tvorog/voice2vec/workbanches/clear/CoolSoundNetwork.py:66: VisibleDeprecationWarning: using a non-integer number instead of an integer will result in an error in the future\n",
      "  newspec[:,i] = np.sum(spec[:,scale[i]:scale[i+1]], axis=1)\n",
      "/home/tvorog/voice2vec/workbanches/clear/CoolSoundNetwork.py:64: VisibleDeprecationWarning: using a non-integer number instead of an integer will result in an error in the future\n",
      "  newspec[:,i] = np.sum(spec[:,scale[i]:], axis=1)\n",
      "/home/tvorog/voice2vec/workbanches/clear/CoolSoundNetwork.py:75: VisibleDeprecationWarning: using a non-integer number instead of an integer will result in an error in the future\n",
      "  freqs += [np.mean(allfreqs[scale[i]:scale[i+1]])]\n",
      "/home/tvorog/voice2vec/workbanches/clear/CoolSoundNetwork.py:73: VisibleDeprecationWarning: using a non-integer number instead of an integer will result in an error in the future\n",
      "  freqs += [np.mean(allfreqs[scale[i]:])]\n"
     ]
    }
   ],
   "source": [
    "c = np.mean(network.vectorizer(path=\"Dima2.wav\"), axis=0)"
   ]
  },
  {
   "cell_type": "code",
   "execution_count": 12,
   "metadata": {
    "collapsed": false
   },
   "outputs": [
    {
     "name": "stderr",
     "output_type": "stream",
     "text": [
      "/anaconda3/lib/python3.5/site-packages/sklearn/utils/validation.py:395: DeprecationWarning: Passing 1d arrays as data is deprecated in 0.17 and will raise ValueError in 0.19. Reshape your data either using X.reshape(-1, 1) if your data has a single feature or X.reshape(1, -1) if it contains a single sample.\n",
      "  DeprecationWarning)\n",
      "/anaconda3/lib/python3.5/site-packages/sklearn/utils/validation.py:395: DeprecationWarning: Passing 1d arrays as data is deprecated in 0.17 and will raise ValueError in 0.19. Reshape your data either using X.reshape(-1, 1) if your data has a single feature or X.reshape(1, -1) if it contains a single sample.\n",
      "  DeprecationWarning)\n"
     ]
    },
    {
     "data": {
      "text/plain": [
       "array([[ 0.97332513]], dtype=float32)"
      ]
     },
     "execution_count": 12,
     "metadata": {},
     "output_type": "execute_result"
    }
   ],
   "source": [
    "cosine_similarity(a, c)"
   ]
  },
  {
   "cell_type": "code",
   "execution_count": null,
   "metadata": {
    "collapsed": true
   },
   "outputs": [],
   "source": []
  }
 ],
 "metadata": {
  "kernelspec": {
   "display_name": "Python 3",
   "language": "python",
   "name": "python3"
  },
  "language_info": {
   "codemirror_mode": {
    "name": "ipython",
    "version": 3
   },
   "file_extension": ".py",
   "mimetype": "text/x-python",
   "name": "python",
   "nbconvert_exporter": "python",
   "pygments_lexer": "ipython3",
   "version": "3.5.2"
  }
 },
 "nbformat": 4,
 "nbformat_minor": 1
}
