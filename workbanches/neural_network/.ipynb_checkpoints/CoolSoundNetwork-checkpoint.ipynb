{
 "cells": [
  {
   "cell_type": "code",
   "execution_count": null,
   "metadata": {
    "collapsed": false
   },
   "outputs": [],
   "source": [
    "%env THEANO_FLAGS=\"device=gpu4\""
   ]
  },
  {
   "cell_type": "code",
   "execution_count": 2,
   "metadata": {
    "collapsed": true
   },
   "outputs": [],
   "source": [
    "import pandas as pd\n",
    "import numpy as np\n",
    "import matplotlib.pyplot as plt\n",
    "%matplotlib inline\n",
    "\n",
    "from tqdm import tqdm_notebook as tqdm\n",
    "from PIL import Image\n",
    "\n",
    "from librosa import load, logamplitude\n",
    "from librosa.feature import melspectrogram"
   ]
  },
  {
   "cell_type": "code",
   "execution_count": 3,
   "metadata": {
    "collapsed": true
   },
   "outputs": [],
   "source": [
    "SOUND_SHAPE = (500, 513)"
   ]
  },
  {
   "cell_type": "code",
   "execution_count": null,
   "metadata": {
    "collapsed": false
   },
   "outputs": [],
   "source": [
    "df = pd.DataFrame.from_csv(\"pronuns.csv\")"
   ]
  },
  {
   "cell_type": "code",
   "execution_count": 4,
   "metadata": {
    "collapsed": true
   },
   "outputs": [],
   "source": [
    "def get_spectrogram(img_name):\n",
    "    return np.array(Image.open(\"../../data/images/{}.png\".format(img_name)))\n",
    "\n",
    "# def get_spectrogram(path):\n",
    "#     \"\"\"Строим спектограмму из wav файла\"\"\"\n",
    "#     y, sr = load(\"mongodb/sounds/%s.wav\" % path)\n",
    "#     S = melspectrogram(y, sr=sr, n_mels=100)\n",
    "#     log_S = logamplitude(S, ref_power=np.max)\n",
    "#     return log_S"
   ]
  },
  {
   "cell_type": "code",
   "execution_count": null,
   "metadata": {
    "collapsed": false
   },
   "outputs": [],
   "source": [
    "plt.imshow(get_spectrogram(\"585fda10698f828c848d862d\"))\n",
    "get_spectrogram(\"585fda10698f828c848d862d\").shape"
   ]
  },
  {
   "cell_type": "code",
   "execution_count": null,
   "metadata": {
    "collapsed": false
   },
   "outputs": [],
   "source": [
    "np.min(get_spectrogram(\"585fda10698f828c848d862d\"))"
   ]
  },
  {
   "cell_type": "code",
   "execution_count": null,
   "metadata": {
    "collapsed": false
   },
   "outputs": [],
   "source": [
    "df.head()"
   ]
  },
  {
   "cell_type": "code",
   "execution_count": null,
   "metadata": {
    "collapsed": true
   },
   "outputs": [],
   "source": [
    "for _id in tqdm(set([i[:-4] for i in os.listdir(\"mongodb/sounds\")])):\n",
    "    get_spectrogram(\"../../sounds/%s.wav\" % _id)"
   ]
  },
  {
   "cell_type": "code",
   "execution_count": null,
   "metadata": {
    "collapsed": false
   },
   "outputs": [],
   "source": [
    "final_train = {}\n",
    "for user in tqdm(df.user.unique()):\n",
    "    user_sp = {}\n",
    "    user_sp_data = df[df.user == user].pronun_id.values\n",
    "    final_train[user] = user_sp_data"
   ]
  },
  {
   "cell_type": "code",
   "execution_count": null,
   "metadata": {
    "collapsed": true
   },
   "outputs": [],
   "source": [
    "from scipy.sparse import bsr_matrix as sp_matrix"
   ]
  },
  {
   "cell_type": "code",
   "execution_count": 5,
   "metadata": {
    "collapsed": false
   },
   "outputs": [],
   "source": [
    "def as_matrix(ar, shape):\n",
    "    ret_mat = np.zeros((len(ar), shape[0], shape[1]), dtype=\"float16\")\n",
    "    for i, vec in enumerate(ar):\n",
    "        try:\n",
    "            if vec.shape[0] > shape[0]:\n",
    "                ret_mat[i, :, :] = vec[:shape[0], :]/200.\n",
    "            else:\n",
    "                ret_mat[i, :vec.shape[0], :] = vec/200.\n",
    "        except IndexError:\n",
    "            print(vec.shape)\n",
    "            raise IndexError\n",
    "\n",
    "    return ret_mat"
   ]
  },
  {
   "cell_type": "code",
   "execution_count": 6,
   "metadata": {
    "collapsed": false
   },
   "outputs": [],
   "source": [
    "import dill\n",
    "from numpy.random import choice\n",
    "\n",
    "class VoicesData:\n",
    "    def __init__(self, path='users.dl'):\n",
    "        # Путь до dill моделf\n",
    "        self.path = path\n",
    "#         Defaultdict информации\n",
    "        self.base = dill.load(open(self.path, 'rb'))\n",
    "#         self.base = final_train\n",
    "    def __getitem__(self, item):\n",
    "        return self.base[item]\n",
    "    def save(self):\n",
    "        \"\"\"Поскольку это не стандартная DB, тут нужна функция сохранения\"\"\"\n",
    "        dill.dump(self.base, open(self.path, 'wb'))\n",
    "\n",
    "    def get_train_vec(self, shape=SOUND_SHAPE):\n",
    "        \"\"\"Делаем из данных train выборку\"\"\"\n",
    "        for key in tqdm(self.base.keys()): \n",
    "            train = []\n",
    "            if len(self.base[key]) >= 2:\n",
    "                for _ in range(0, len(self.base[key]), 2):\n",
    "                    values = choice(list(self.base[key]), 2)\n",
    "                    a = np.asarray(get_spectrogram(values[0]))\n",
    "                    b = np.asarray(get_spectrogram(values[1]))\n",
    "                    other = choice(list(self.base), 1)[0]\n",
    "                    c = np.asarray(get_spectrogram(choice(list(self.base[other]), 1)[0]))\n",
    "\n",
    "                    other_value = c\n",
    "                    value_first = a\n",
    "                    value_second = b\n",
    "#                     print(a.shape)\n",
    "                    # other_value.resize(shape) # value_first.resize(shape) # value_second.resize(shape)\n",
    "                    some = as_matrix((value_first, other_value, value_second), shape)\n",
    "                    train.append(some)\n",
    "#                     break\n",
    "                    \n",
    "#                 print(len(train))\n",
    "                yield train\n",
    "            else:\n",
    "#                 print(\"I'm empty\")\n",
    "                pass\n",
    "\n",
    "    def get_train_people(self, shape=SOUND_SHAPE, count=10000):\n",
    "        X = []\n",
    "        y = []\n",
    "        people = list(self.base.keys())\n",
    "        for _ in tqdm(range(0, count//2)):\n",
    "            man = choice(people, 1)\n",
    "            track = choice(list(self.base[man[0]]), 2)\n",
    "\n",
    "            a = get_spectrogram(track[0])\n",
    "            b = get_spectrogram(track[1])\n",
    "\n",
    "            X.extend([as_matrix([a, b], shape)])\n",
    "\n",
    "        y.extend([1 for _ in range(len(X))])\n",
    "        X_ol = len(X)\n",
    "#                 break\n",
    "\n",
    "        \n",
    "        for _ in tqdm(range(count//2, count)):\n",
    "            man1 = choice(people, 1)[0]\n",
    "            people_new = people[:]\n",
    "            people_new.remove(man1)\n",
    "\n",
    "            man2 = choice(people_new, 1)[0]\n",
    "            \n",
    "#             print(man1)\n",
    "            sou = self.base[man1]\n",
    "            a = choice(list(sou), 1)[0]\n",
    "            sou = self.base[man2]\n",
    "            b = choice(list(sou), 1)[0]\n",
    "            \n",
    "            X.append(as_matrix([get_spectrogram(a),\n",
    "                      get_spectrogram(b)], shape))\n",
    "        y.extend([0 for _ in range(len(X) - X_ol)])\n",
    "        return np.array(X, dtype=\"float16\"), np.array(y)"
   ]
  },
  {
   "cell_type": "code",
   "execution_count": null,
   "metadata": {
    "collapsed": false
   },
   "outputs": [],
   "source": [
    "choice([0], 2)"
   ]
  },
  {
   "cell_type": "code",
   "execution_count": 18,
   "metadata": {
    "collapsed": false
   },
   "outputs": [],
   "source": [
    "users = VoicesData(\"../../data/users.dl\")"
   ]
  },
  {
   "cell_type": "code",
   "execution_count": null,
   "metadata": {
    "collapsed": false
   },
   "outputs": [],
   "source": [
    "users.save()"
   ]
  },
  {
   "cell_type": "code",
   "execution_count": 19,
   "metadata": {
    "collapsed": false
   },
   "outputs": [
    {
     "name": "stdout",
     "output_type": "stream",
     "text": [
      "\n",
      "\n"
     ]
    }
   ],
   "source": [
    "X, y = users.get_train_people(count=40000)"
   ]
  },
  {
   "cell_type": "code",
   "execution_count": null,
   "metadata": {
    "collapsed": false
   },
   "outputs": [],
   "source": [
    "data = users.get_train_vec()"
   ]
  },
  {
   "cell_type": "code",
   "execution_count": null,
   "metadata": {
    "collapsed": true
   },
   "outputs": [],
   "source": [
    "del users"
   ]
  },
  {
   "cell_type": "code",
   "execution_count": null,
   "metadata": {
    "collapsed": true
   },
   "outputs": [],
   "source": [
    "np.save(\"X\", X)\n",
    "np.save(\"y\", y)"
   ]
  },
  {
   "cell_type": "code",
   "execution_count": 8,
   "metadata": {
    "collapsed": false
   },
   "outputs": [
    {
     "name": "stderr",
     "output_type": "stream",
     "text": [
      "Using gpu device 4: GeForce GTX 1080 (CNMeM is enabled with initial size: 45.0% of memory, cuDNN 5105)\n"
     ]
    }
   ],
   "source": [
    "import theano\n",
    "import theano.tensor as T\n",
    "\n",
    "import lasagne\n",
    "\n",
    "from lasagne.layers import InputLayer, DenseLayer, ReshapeLayer, Conv1DLayer, MaxPool1DLayer, GlobalPoolLayer, \\\n",
    "    get_output, get_all_params, get_all_param_values, set_all_param_values\n",
    "\n",
    "from lasagne.nonlinearities import very_leaky_rectify, tanh\n",
    "\n",
    "from lasagne.updates import adagrad\n",
    "\n",
    "def make_speechtovec(incoming, sound_shape, num_units, **kwargs):\n",
    "    \"\"\"\n",
    "    :param incoming: the layer feeding into this layer, or the expected input shape.\n",
    "    :param sound_shape: shape of freq x time\n",
    "    :param num_units: output vector dimension\n",
    "    \"\"\"\n",
    "\n",
    "\n",
    "    input_reshape = ReshapeLayer(incoming, (-1,) + sound_shape)  # Сворачиваем все записи друг за другом\n",
    "    convolution = Conv1DLayer(input_reshape, num_filters=100, filter_size=5,\n",
    "                              nonlinearity=very_leaky_rectify, name=\"Convolutional\")\n",
    "    pooling = MaxPool1DLayer(convolution, 2)\n",
    "    global_pooling = GlobalPoolLayer(pooling)\n",
    "    dense = DenseLayer(global_pooling, num_units=300, name=\"Dense\")\n",
    "    output_dense = DenseLayer(dense, num_units=num_units, nonlinearity=lasagne.nonlinearities.linear, name='output')\n",
    "    all_vectors_output = ReshapeLayer(output_dense, (-1, 3, num_units))\n",
    "\n",
    "    return all_vectors_output, output_dense"
   ]
  },
  {
   "cell_type": "code",
   "execution_count": 9,
   "metadata": {
    "collapsed": true
   },
   "outputs": [],
   "source": [
    "input_triplets = T.tensor4(\"Triplets input\", dtype=\"float32\")\n",
    "target = T.ivector(\"Target\")"
   ]
  },
  {
   "cell_type": "code",
   "execution_count": null,
   "metadata": {
    "collapsed": false
   },
   "outputs": [],
   "source": [
    "triplets_input = InputLayer((None, 3) + SOUND_SHAPE, input_var=input_triplets)\n",
    "# people_inputs = InputLayer((None, 2, 500, 513))\n",
    "# from lasagne.layers import dimshuffle\n",
    "# dimshuffle(triplets_input,[0,1,3,2])\n",
    "vectorizer, _ = make_speechtovec(lasagne.layers.dimshuffle(triplets_input,[0,1,3,2]), SOUND_SHAPE[::-1], 300)"
   ]
  },
  {
   "cell_type": "code",
   "execution_count": null,
   "metadata": {
    "collapsed": false
   },
   "outputs": [],
   "source": [
    "lasagne.layers.set_all_param_values(vectorizer, param)"
   ]
  },
  {
   "cell_type": "code",
   "execution_count": null,
   "metadata": {
    "collapsed": false
   },
   "outputs": [],
   "source": [
    "all_pred = get_output(vectorizer)\n",
    "params = get_all_params(vectorizer, trainable=True)"
   ]
  },
  {
   "cell_type": "code",
   "execution_count": null,
   "metadata": {
    "collapsed": false
   },
   "outputs": [],
   "source": [
    "def loss_func(all_predicted):\n",
    "    def distance_sq(x1, x2):\n",
    "        return T.sum(T.sqr(x1 - x2))\n",
    "\n",
    "    d1 = distance_sq(all_predicted[:, 0], all_predicted[:, 1])\n",
    "    d2 = distance_sq(all_predicted[:, 0], all_predicted[:, 2])\n",
    "    alpha = 1e-2\n",
    "\n",
    "    return T.maximum(d1 + alpha, 0) - T.maximum(d2 + alpha, 0)"
   ]
  },
  {
   "cell_type": "code",
   "execution_count": null,
   "metadata": {
    "collapsed": true
   },
   "outputs": [],
   "source": [
    "def cos_sim(vec1, vec2):\n",
    "    numerator = T.sum(vec1*vec2)\n",
    "    denumenator = T.sqrt(T.sum(vec1**2)*T.sum(vec2**2))\n",
    "    return numerator/denumenator\n",
    "\n",
    "def denum_fun(v1, v2, similar_v, epsilon=0.0001):\n",
    "    if similar_v:\n",
    "        return (cos_sim(v1, v2) + 1)/2 + epsilon\n",
    "    else:\n",
    "        return (cos_sim(v1, v2) - 1)/2 + epsilon\n",
    "\n",
    "def loss_func_new(all_predicted, epsilon=0.0001):\n",
    "    def distance_sq(x1, x2):\n",
    "        return T.sum(T.sqr(x1 - x2))\n",
    "\n",
    "    d1 = distance_sq(all_predicted[:, 0], all_predicted[:, 1])\n",
    "    d2 = distance_sq(all_predicted[:, 0], all_predicted[:, 2])\n",
    "    \n",
    "    d1 /= denum_fun(all_predicted[:, 0], all_predicted[:, 1], True)\n",
    "    d2 /= denum_fun(all_predicted[:, 0], all_predicted[:, 2], False)\n",
    "    alpha = 1e-2\n",
    "\n",
    "    return T.maximum(d1 + alpha, 0) - T.maximum(d2 + alpha, 0)"
   ]
  },
  {
   "cell_type": "code",
   "execution_count": null,
   "metadata": {
    "collapsed": false
   },
   "outputs": [],
   "source": [
    "loss = loss_func(all_pred)\n",
    "\n",
    "updates = adagrad(loss, params)"
   ]
  },
  {
   "cell_type": "code",
   "execution_count": null,
   "metadata": {
    "collapsed": false
   },
   "outputs": [],
   "source": [
    "train = theano.function([triplets_input.input_var], updates=updates)"
   ]
  },
  {
   "cell_type": "code",
   "execution_count": null,
   "metadata": {
    "collapsed": false
   },
   "outputs": [],
   "source": [
    "shape = None\n",
    "users = VoicesData(\"../../data/users.dl\")\n",
    "for i in range(5):\n",
    "    data = users.get_train_vec()\n",
    "    for t in data:\n",
    "        try:\n",
    "            t = np.array(t)\n",
    "\n",
    "            if t.shape[0] > 1000:\n",
    "                train(t[:500])\n",
    "                train(t[500:1000])\n",
    "                train(t[1000:])\n",
    "            elif t.shape[0] > 500:\n",
    "                train(t[:500])\n",
    "                train(t[500:])\n",
    "            else:\n",
    "                train(t)\n",
    "\n",
    "            shape = t.shape\n",
    "            del t\n",
    "        except MemoryError:\n",
    "            print(t.shape, shape)\n",
    "            break"
   ]
  },
  {
   "cell_type": "code",
   "execution_count": null,
   "metadata": {
    "collapsed": false
   },
   "outputs": [],
   "source": [
    "np.save(\"../../data/weights_vec_new_new.npy\", lasagne.layers.get_all_param_values(vectorizer))"
   ]
  },
  {
   "cell_type": "code",
   "execution_count": null,
   "metadata": {
    "collapsed": false
   },
   "outputs": [],
   "source": [
    "param = np.load(\"../../data/weights_vec_new.npy\")"
   ]
  },
  {
   "cell_type": "code",
   "execution_count": 12,
   "metadata": {
    "collapsed": true
   },
   "outputs": [],
   "source": [
    "param = np.load(\"../../data/tvorog_vectorizer.npy\")"
   ]
  },
  {
   "cell_type": "code",
   "execution_count": null,
   "metadata": {
    "collapsed": false
   },
   "outputs": [],
   "source": [
    "pr = theano.function([triplets_input.input_var], all_pred)"
   ]
  },
  {
   "cell_type": "code",
   "execution_count": null,
   "metadata": {
    "collapsed": false
   },
   "outputs": [],
   "source": [
    "shape = None\n",
    "for t in data:\n",
    "    print(pr(t))\n",
    "    break"
   ]
  },
  {
   "cell_type": "code",
   "execution_count": null,
   "metadata": {
    "collapsed": false
   },
   "outputs": [],
   "source": [
    "t"
   ]
  },
  {
   "cell_type": "code",
   "execution_count": null,
   "metadata": {
    "collapsed": false
   },
   "outputs": [],
   "source": [
    "np.array(t).dtype"
   ]
  },
  {
   "cell_type": "code",
   "execution_count": null,
   "metadata": {
    "collapsed": false
   },
   "outputs": [],
   "source": [
    "for l in get_all_layers(vectorizer):\n",
    "    print (l, l.output_shape)"
   ]
  },
  {
   "cell_type": "code",
   "execution_count": 10,
   "metadata": {
    "collapsed": true
   },
   "outputs": [],
   "source": [
    "siminput = T.tensor3(\"Similar voice\")"
   ]
  },
  {
   "cell_type": "code",
   "execution_count": 34,
   "metadata": {
    "collapsed": false
   },
   "outputs": [],
   "source": [
    "triplets_input = InputLayer((None, 2) + SOUND_SHAPE, input_var=input_triplets)\n",
    "# nn = lasagne.layers.batch_norm(triplets_input)\n",
    "# people_inputs = InputLayer((None, 2, 500, 513))\n",
    "# from lasagne.layers import dimshuffle\n",
    "_ ,vectorizer= make_speechtovec(lasagne.layers.dimshuffle(triplets_input,[0,1,3,2]), SOUND_SHAPE[::-1], 300)\n",
    "\n",
    "similar_inp = lasagne.layers.InputLayer((None, 2, 300), input_var=siminput)\n",
    "# vector_output = ReshapeLayer(vectorizer, (-1, 2, 300))\n",
    "nn = lasagne.layers.batch_norm(similar_inp)\n",
    "conv_layer = Conv1DLayer(nn, 300, 2)\n",
    "nn = lasagne.layers.batch_norm(conv_layer)\n",
    "dense0 = DenseLayer(nn, 150)\n",
    "nn = lasagne.layers.batch_norm(dense0)\n",
    "dense0 = DenseLayer(nn, 50)\n",
    "nn = lasagne.layers.batch_norm(dense0)\n",
    "output = DenseLayer(nn, 1, nonlinearity=lasagne.nonlinearities.sigmoid)\n",
    "# dense0 = DenseLayer(vector_output, 100)\n",
    "# nn = lasagne.layers.batch_norm(dense0)\n",
    "# output = DenseLayer(nn, 1, nonlinearity=lasagne.nonlinearities.sigmoid)"
   ]
  },
  {
   "cell_type": "code",
   "execution_count": 35,
   "metadata": {
    "collapsed": false
   },
   "outputs": [],
   "source": [
    "lasagne.layers.set_all_param_values(vectorizer, param)"
   ]
  },
  {
   "cell_type": "code",
   "execution_count": 36,
   "metadata": {
    "collapsed": true
   },
   "outputs": [],
   "source": [
    "predict = lasagne.layers.get_output(output)\n",
    "vec_pr = lasagne.layers.get_output(vectorizer)"
   ]
  },
  {
   "cell_type": "code",
   "execution_count": null,
   "metadata": {
    "collapsed": false
   },
   "outputs": [],
   "source": [
    "predict"
   ]
  },
  {
   "cell_type": "code",
   "execution_count": 37,
   "metadata": {
    "collapsed": true
   },
   "outputs": [],
   "source": [
    "parametrs = lasagne.layers.get_all_params(output, trainable=True)"
   ]
  },
  {
   "cell_type": "code",
   "execution_count": null,
   "metadata": {
    "collapsed": false
   },
   "outputs": [],
   "source": [
    "parametrs"
   ]
  },
  {
   "cell_type": "code",
   "execution_count": 38,
   "metadata": {
    "collapsed": false
   },
   "outputs": [],
   "source": [
    "loss = lasagne.objectives.binary_crossentropy(predict, target).sum()\n",
    "acc = lasagne.objectives.binary_accuracy(predict, target).mean()\n",
    "updates = lasagne.updates.adamax(loss, parametrs,learning_rate = 0.0001)\n",
    "# updates = lasagne.updates.apply_nesterov_momentum(updates, parametrs)"
   ]
  },
  {
   "cell_type": "code",
   "execution_count": 41,
   "metadata": {
    "collapsed": false
   },
   "outputs": [],
   "source": [
    "train = theano.function([similar_inp.input_var, target] ,updates=updates, allow_input_downcast=True)\n",
    "vectoriz = theano.function([triplets_input.input_var], vec_pr, allow_input_downcast=True)\n",
    "presd = theano.function([similar_inp.input_var],predict ,allow_input_downcast=True)"
   ]
  },
  {
   "cell_type": "code",
   "execution_count": 26,
   "metadata": {
    "collapsed": false
   },
   "outputs": [],
   "source": [
    "ind = np.arange(len(X))\n",
    "np.random.shuffle(ind)\n"
   ]
  },
  {
   "cell_type": "code",
   "execution_count": 27,
   "metadata": {
    "collapsed": false
   },
   "outputs": [],
   "source": [
    "in_train, in_test = ind[1000:], ind[:1000]\n",
    "# y_train, y_test = Y[1000:], Y[:1000]"
   ]
  },
  {
   "cell_type": "code",
   "execution_count": 22,
   "metadata": {
    "collapsed": true
   },
   "outputs": [],
   "source": [
    "def iterate_minibatches(inputs, targets, ind, batchsize, shuffle=True):\n",
    "    assert len(inputs) == len(targets)\n",
    "    if shuffle:\n",
    "        indices = np.arange(len(ind))\n",
    "        np.random.shuffle(indices)\n",
    "    for start_idx in tqdm(range(0, len(ind) - batchsize + 1, batchsize)):\n",
    "        if shuffle:\n",
    "            excerpt = indices[start_idx:start_idx + batchsize]\n",
    "        else:\n",
    "            excerpt = slice(start_idx, start_idx + batchsize)\n",
    "        yield inputs[ind[excerpt]], targets[ind[excerpt]]"
   ]
  },
  {
   "cell_type": "code",
   "execution_count": 23,
   "metadata": {
    "collapsed": true
   },
   "outputs": [],
   "source": [
    "from time import time"
   ]
  },
  {
   "cell_type": "code",
   "execution_count": null,
   "metadata": {
    "collapsed": false
   },
   "outputs": [],
   "source": [
    "lasagne.layers.set_all_param_values(output, np.load(\"../../data/weights/symvoice_weights.npy\"))"
   ]
  },
  {
   "cell_type": "code",
   "execution_count": 47,
   "metadata": {
    "collapsed": false,
    "scrolled": true
   },
   "outputs": [
    {
     "name": "stdout",
     "output_type": "stream",
     "text": [
      "\n"
     ]
    },
    {
     "name": "stderr",
     "output_type": "stream",
     "text": [
      "Exception in thread Thread-32:\n",
      "Traceback (most recent call last):\n",
      "  File \"/anaconda3/lib/python3.5/threading.py\", line 914, in _bootstrap_inner\n",
      "    self.run()\n",
      "  File \"/anaconda3/lib/python3.5/site-packages/tqdm/_tqdm.py\", line 102, in run\n",
      "    for instance in self.tqdm_cls._instances:\n",
      "  File \"/anaconda3/lib/python3.5/_weakrefset.py\", line 60, in __iter__\n",
      "    for itemref in self.data:\n",
      "RuntimeError: Set changed size during iteration\n",
      "\n"
     ]
    },
    {
     "name": "stdout",
     "output_type": "stream",
     "text": [
      "\n",
      " Time:  2.569850039482117\n",
      "\tAccuracy:  0.848934218747\n",
      "\n",
      " Time:  2.6202631910641987\n",
      "\tAccuracy:  0.851259231965\n",
      "\n",
      " Time:  2.6109565774599712\n",
      "\tAccuracy:  0.849961550169\n",
      "\n",
      " Time:  2.6408819874127705\n",
      "\tAccuracy:  0.850097726654\n",
      "\n",
      " Time:  2.610487627983093\n",
      "\tAccuracy:  0.847021740175\n"
     ]
    },
    {
     "ename": "KeyboardInterrupt",
     "evalue": "",
     "output_type": "error",
     "traceback": [
      "\u001b[0;31m---------------------------------------------------------------------------\u001b[0m",
      "\u001b[0;31mKeyboardInterrupt\u001b[0m                         Traceback (most recent call last)",
      "\u001b[0;32m<ipython-input-47-5941adbc046a>\u001b[0m in \u001b[0;36m<module>\u001b[0;34m()\u001b[0m\n\u001b[1;32m      3\u001b[0m \u001b[0;32mfor\u001b[0m \u001b[0mepoch\u001b[0m \u001b[0;32min\u001b[0m \u001b[0mrange\u001b[0m\u001b[0;34m(\u001b[0m\u001b[0mEPOCH\u001b[0m\u001b[0;34m)\u001b[0m\u001b[0;34m:\u001b[0m\u001b[0;34m\u001b[0m\u001b[0m\n\u001b[1;32m      4\u001b[0m     \u001b[0mst\u001b[0m \u001b[0;34m=\u001b[0m \u001b[0mtime\u001b[0m\u001b[0;34m(\u001b[0m\u001b[0;34m)\u001b[0m\u001b[0;34m\u001b[0m\u001b[0m\n\u001b[0;32m----> 5\u001b[0;31m     \u001b[0;32mfor\u001b[0m \u001b[0mi\u001b[0m\u001b[0;34m,\u001b[0m \u001b[0mbatch\u001b[0m \u001b[0;32min\u001b[0m \u001b[0menumerate\u001b[0m\u001b[0;34m(\u001b[0m\u001b[0miterate_minibatches\u001b[0m\u001b[0;34m(\u001b[0m\u001b[0mX\u001b[0m\u001b[0;34m,\u001b[0m \u001b[0my\u001b[0m\u001b[0;34m,\u001b[0m \u001b[0min_train\u001b[0m\u001b[0;34m,\u001b[0m \u001b[0;36m1000\u001b[0m\u001b[0;34m)\u001b[0m\u001b[0;34m)\u001b[0m\u001b[0;34m:\u001b[0m\u001b[0;34m\u001b[0m\u001b[0m\n\u001b[0m\u001b[1;32m      6\u001b[0m \u001b[0;31m#         print(\"Hey\")\u001b[0m\u001b[0;34m\u001b[0m\u001b[0;34m\u001b[0m\u001b[0m\n\u001b[1;32m      7\u001b[0m         \u001b[0mx_tr\u001b[0m\u001b[0;34m,\u001b[0m \u001b[0my_tr\u001b[0m \u001b[0;34m=\u001b[0m \u001b[0mbatch\u001b[0m\u001b[0;34m\u001b[0m\u001b[0m\n",
      "\u001b[0;32m<ipython-input-22-befe08aaa15f>\u001b[0m in \u001b[0;36miterate_minibatches\u001b[0;34m(inputs, targets, ind, batchsize, shuffle)\u001b[0m\n\u001b[1;32m      9\u001b[0m         \u001b[0;32melse\u001b[0m\u001b[0;34m:\u001b[0m\u001b[0;34m\u001b[0m\u001b[0m\n\u001b[1;32m     10\u001b[0m             \u001b[0mexcerpt\u001b[0m \u001b[0;34m=\u001b[0m \u001b[0mslice\u001b[0m\u001b[0;34m(\u001b[0m\u001b[0mstart_idx\u001b[0m\u001b[0;34m,\u001b[0m \u001b[0mstart_idx\u001b[0m \u001b[0;34m+\u001b[0m \u001b[0mbatchsize\u001b[0m\u001b[0;34m)\u001b[0m\u001b[0;34m\u001b[0m\u001b[0m\n\u001b[0;32m---> 11\u001b[0;31m         \u001b[0;32myield\u001b[0m \u001b[0minputs\u001b[0m\u001b[0;34m[\u001b[0m\u001b[0mind\u001b[0m\u001b[0;34m[\u001b[0m\u001b[0mexcerpt\u001b[0m\u001b[0;34m]\u001b[0m\u001b[0;34m]\u001b[0m\u001b[0;34m,\u001b[0m \u001b[0mtargets\u001b[0m\u001b[0;34m[\u001b[0m\u001b[0mind\u001b[0m\u001b[0;34m[\u001b[0m\u001b[0mexcerpt\u001b[0m\u001b[0;34m]\u001b[0m\u001b[0;34m]\u001b[0m\u001b[0;34m\u001b[0m\u001b[0m\n\u001b[0m",
      "\u001b[0;31mKeyboardInterrupt\u001b[0m: "
     ]
    }
   ],
   "source": [
    "EPOCH = 100\n",
    "\n",
    "for epoch in range(EPOCH):\n",
    "    st = time()\n",
    "    for i, batch in enumerate(iterate_minibatches(X, y, in_train, 1000)):\n",
    "#         print(\"Hey\")\n",
    "        x_tr, y_tr = batch\n",
    "        train(vectoriz(x_tr).reshape((-1, 2, 300)), y_tr)\n",
    "#         print(\"Hop\")\n",
    "#         break\n",
    "        if i > 100:\n",
    "            break\n",
    "#     break\n",
    "    print('\\r', \"Time: \", (time()-st)/60.)\n",
    "    print(\"\\tAccuracy: \", roc_auc_score(y[in_test], presd(vectoriz(X[in_test]).reshape((-1, 2, 300)))))"
   ]
  },
  {
   "cell_type": "code",
   "execution_count": 40,
   "metadata": {
    "collapsed": true
   },
   "outputs": [],
   "source": [
    "del train, vectoriz, presd"
   ]
  },
  {
   "cell_type": "code",
   "execution_count": null,
   "metadata": {
    "collapsed": false
   },
   "outputs": [],
   "source": [
    "lasagne.layers.get_all_param_values(vectorizer)"
   ]
  },
  {
   "cell_type": "code",
   "execution_count": null,
   "metadata": {
    "collapsed": false
   },
   "outputs": [],
   "source": [
    "acc_fun(X[in_test], y[in_test])"
   ]
  },
  {
   "cell_type": "code",
   "execution_count": 28,
   "metadata": {
    "collapsed": false
   },
   "outputs": [
    {
     "data": {
      "text/plain": [
       "0.51800000000000002"
      ]
     },
     "execution_count": 28,
     "metadata": {},
     "output_type": "execute_result"
    }
   ],
   "source": [
    "y[in_test].sum()/len(y[in_test])"
   ]
  },
  {
   "cell_type": "code",
   "execution_count": 24,
   "metadata": {
    "collapsed": true
   },
   "outputs": [],
   "source": [
    "from sklearn.metrics import roc_auc_score"
   ]
  },
  {
   "cell_type": "code",
   "execution_count": null,
   "metadata": {
    "collapsed": false
   },
   "outputs": [],
   "source": [
    "roc_auc_score(y[in_test], presd(vectoriz(X[in_test]).reshape((-1, 2, 300))))"
   ]
  },
  {
   "cell_type": "code",
   "execution_count": 43,
   "metadata": {
    "collapsed": true
   },
   "outputs": [],
   "source": [
    "np.save(\"../../data/simvoice_weights.npy\", lasagne.layers.get_all_param_values(output))"
   ]
  },
  {
   "cell_type": "code",
   "execution_count": 46,
   "metadata": {
    "collapsed": true
   },
   "outputs": [],
   "source": [
    "np.save(\"../../data/vectorizer_weights.npy\", lasagne.layers.get_all_param_values(vectorizer))"
   ]
  },
  {
   "cell_type": "code",
   "execution_count": null,
   "metadata": {
    "collapsed": true
   },
   "outputs": [],
   "source": [
    "t = None"
   ]
  },
  {
   "cell_type": "code",
   "execution_count": 48,
   "metadata": {
    "collapsed": false
   },
   "outputs": [
    {
     "data": {
      "text/plain": [
       "array([[ 0.12914398],\n",
       "       [ 0.74728978],\n",
       "       [ 0.25182235],\n",
       "       [ 0.51052099],\n",
       "       [ 0.10784314],\n",
       "       [ 0.28822351],\n",
       "       [ 0.03875925],\n",
       "       [ 0.35590574],\n",
       "       [ 0.14068604],\n",
       "       [ 0.27607948],\n",
       "       [ 0.60729241],\n",
       "       [ 0.4615072 ],\n",
       "       [ 0.99822563],\n",
       "       [ 0.9522745 ],\n",
       "       [ 0.64928299],\n",
       "       [ 0.55753684],\n",
       "       [ 0.98516035],\n",
       "       [ 0.31106356],\n",
       "       [ 0.45526385],\n",
       "       [ 0.99878091],\n",
       "       [ 0.2649135 ],\n",
       "       [ 0.94076777],\n",
       "       [ 0.12188268],\n",
       "       [ 0.17551516],\n",
       "       [ 0.18895182],\n",
       "       [ 0.20877738],\n",
       "       [ 0.55359083],\n",
       "       [ 0.36299482],\n",
       "       [ 0.23655155],\n",
       "       [ 0.96475905],\n",
       "       [ 0.36400989],\n",
       "       [ 0.20507111],\n",
       "       [ 0.36992726],\n",
       "       [ 0.27127019],\n",
       "       [ 0.97369474],\n",
       "       [ 0.99461949],\n",
       "       [ 0.21880427],\n",
       "       [ 0.01912975],\n",
       "       [ 0.98882854],\n",
       "       [ 0.04067783],\n",
       "       [ 0.12097206],\n",
       "       [ 0.99018025],\n",
       "       [ 0.45173803],\n",
       "       [ 0.83675075],\n",
       "       [ 0.56882501],\n",
       "       [ 0.31497014],\n",
       "       [ 0.62504399],\n",
       "       [ 0.23258944],\n",
       "       [ 0.2008654 ],\n",
       "       [ 0.32306296],\n",
       "       [ 0.77731192],\n",
       "       [ 0.1102555 ],\n",
       "       [ 0.96565688],\n",
       "       [ 0.18708812],\n",
       "       [ 0.51863968],\n",
       "       [ 0.26464802],\n",
       "       [ 0.09877341],\n",
       "       [ 0.30168593],\n",
       "       [ 0.08597786],\n",
       "       [ 0.68190396],\n",
       "       [ 0.58368933],\n",
       "       [ 0.21463138],\n",
       "       [ 0.98185277],\n",
       "       [ 0.35682374],\n",
       "       [ 0.69067353],\n",
       "       [ 0.83463639],\n",
       "       [ 0.98535925],\n",
       "       [ 0.99325377],\n",
       "       [ 0.80322707],\n",
       "       [ 0.1645678 ],\n",
       "       [ 0.12481496],\n",
       "       [ 0.98312074],\n",
       "       [ 0.62746859],\n",
       "       [ 0.64764804],\n",
       "       [ 0.28838819],\n",
       "       [ 0.26722616],\n",
       "       [ 0.8155995 ],\n",
       "       [ 0.48664752],\n",
       "       [ 0.7624709 ],\n",
       "       [ 0.15471494],\n",
       "       [ 0.30304417],\n",
       "       [ 0.16680634],\n",
       "       [ 0.24439798],\n",
       "       [ 0.4513945 ],\n",
       "       [ 0.55872399],\n",
       "       [ 0.74718976],\n",
       "       [ 0.98652118],\n",
       "       [ 0.11025317],\n",
       "       [ 0.15420713],\n",
       "       [ 0.96009839],\n",
       "       [ 0.36392683],\n",
       "       [ 0.35597357],\n",
       "       [ 0.15007898],\n",
       "       [ 0.46368968],\n",
       "       [ 0.98702729],\n",
       "       [ 0.26755363],\n",
       "       [ 0.04803098],\n",
       "       [ 0.468454  ],\n",
       "       [ 0.98646122],\n",
       "       [ 0.98029238],\n",
       "       [ 0.46522155],\n",
       "       [ 0.55066901],\n",
       "       [ 0.98536229],\n",
       "       [ 0.39219022],\n",
       "       [ 0.4553546 ],\n",
       "       [ 0.98152971],\n",
       "       [ 0.98830682],\n",
       "       [ 0.74064839],\n",
       "       [ 0.60347331],\n",
       "       [ 0.08392572],\n",
       "       [ 0.0948721 ],\n",
       "       [ 0.73028284],\n",
       "       [ 0.55008352],\n",
       "       [ 0.6187411 ],\n",
       "       [ 0.18394999],\n",
       "       [ 0.39400673],\n",
       "       [ 0.42912924],\n",
       "       [ 0.39259025],\n",
       "       [ 0.27678221],\n",
       "       [ 0.11488245],\n",
       "       [ 0.20136328],\n",
       "       [ 0.96931821],\n",
       "       [ 0.19644639],\n",
       "       [ 0.35781407],\n",
       "       [ 0.24207652],\n",
       "       [ 0.99087828],\n",
       "       [ 0.99262625],\n",
       "       [ 0.32248431],\n",
       "       [ 0.97363675],\n",
       "       [ 0.77056962],\n",
       "       [ 0.22383575],\n",
       "       [ 0.2820527 ],\n",
       "       [ 0.21441129],\n",
       "       [ 0.65572709],\n",
       "       [ 0.31873277],\n",
       "       [ 0.59021479],\n",
       "       [ 0.14139605],\n",
       "       [ 0.38325229],\n",
       "       [ 0.22525701],\n",
       "       [ 0.36065018],\n",
       "       [ 0.01138517],\n",
       "       [ 0.9795863 ],\n",
       "       [ 0.4881894 ],\n",
       "       [ 0.97669661],\n",
       "       [ 0.9715398 ],\n",
       "       [ 0.71585137],\n",
       "       [ 0.35096148],\n",
       "       [ 0.48627999],\n",
       "       [ 0.96070647],\n",
       "       [ 0.42240992],\n",
       "       [ 0.1791622 ],\n",
       "       [ 0.1377679 ],\n",
       "       [ 0.97405314],\n",
       "       [ 0.08188654],\n",
       "       [ 0.31040591],\n",
       "       [ 0.96616077],\n",
       "       [ 0.31158233],\n",
       "       [ 0.29774001],\n",
       "       [ 0.66548467],\n",
       "       [ 0.96978945],\n",
       "       [ 0.22064818],\n",
       "       [ 0.55559301],\n",
       "       [ 0.54342443],\n",
       "       [ 0.37214729],\n",
       "       [ 0.10249054],\n",
       "       [ 0.99737072],\n",
       "       [ 0.37025133],\n",
       "       [ 0.68136889],\n",
       "       [ 0.10434267],\n",
       "       [ 0.39194861],\n",
       "       [ 0.57364982],\n",
       "       [ 0.64736354],\n",
       "       [ 0.55908394],\n",
       "       [ 0.50254756],\n",
       "       [ 0.54750752],\n",
       "       [ 0.94762886],\n",
       "       [ 0.13621983],\n",
       "       [ 0.46227446],\n",
       "       [ 0.16338561],\n",
       "       [ 0.48780176],\n",
       "       [ 0.47288755],\n",
       "       [ 0.50023597],\n",
       "       [ 0.45193276],\n",
       "       [ 0.16966607],\n",
       "       [ 0.60226446],\n",
       "       [ 0.39783695],\n",
       "       [ 0.97213066],\n",
       "       [ 0.42857221],\n",
       "       [ 0.13350785],\n",
       "       [ 0.99227893],\n",
       "       [ 0.23001541],\n",
       "       [ 0.05870403],\n",
       "       [ 0.40213227],\n",
       "       [ 0.97658086],\n",
       "       [ 0.43441692],\n",
       "       [ 0.24179086],\n",
       "       [ 0.53561616],\n",
       "       [ 0.76424521],\n",
       "       [ 0.31788525],\n",
       "       [ 0.16346474],\n",
       "       [ 0.82573807],\n",
       "       [ 0.65701503],\n",
       "       [ 0.0681784 ],\n",
       "       [ 0.9657914 ],\n",
       "       [ 0.24095148],\n",
       "       [ 0.2246078 ],\n",
       "       [ 0.9681856 ],\n",
       "       [ 0.80148876],\n",
       "       [ 0.9718051 ],\n",
       "       [ 0.64699036],\n",
       "       [ 0.24714065],\n",
       "       [ 0.4293254 ],\n",
       "       [ 0.3959724 ],\n",
       "       [ 0.05065238],\n",
       "       [ 0.6278618 ],\n",
       "       [ 0.71778464],\n",
       "       [ 0.29243168],\n",
       "       [ 0.99985588],\n",
       "       [ 0.98479003],\n",
       "       [ 0.99812502],\n",
       "       [ 0.16282922],\n",
       "       [ 0.34841037],\n",
       "       [ 0.38654914],\n",
       "       [ 0.12871949],\n",
       "       [ 0.31346634],\n",
       "       [ 0.09725918],\n",
       "       [ 0.48745301],\n",
       "       [ 0.55239636],\n",
       "       [ 0.96003783],\n",
       "       [ 0.97544587],\n",
       "       [ 0.27847996],\n",
       "       [ 0.96764386],\n",
       "       [ 0.70420396],\n",
       "       [ 0.05690735],\n",
       "       [ 0.1209233 ],\n",
       "       [ 0.34462827],\n",
       "       [ 0.77304107],\n",
       "       [ 0.32020926],\n",
       "       [ 0.57782924],\n",
       "       [ 0.68961954],\n",
       "       [ 0.43170196],\n",
       "       [ 0.19662559],\n",
       "       [ 0.96140969],\n",
       "       [ 0.56835699],\n",
       "       [ 0.25488999],\n",
       "       [ 0.95528221],\n",
       "       [ 0.9860118 ],\n",
       "       [ 0.99435693],\n",
       "       [ 0.96970797],\n",
       "       [ 0.82028192],\n",
       "       [ 0.19549949],\n",
       "       [ 0.13015127],\n",
       "       [ 0.83336377],\n",
       "       [ 0.35272634],\n",
       "       [ 0.6119861 ],\n",
       "       [ 0.20747912],\n",
       "       [ 0.63810104],\n",
       "       [ 0.08676244],\n",
       "       [ 0.31883925],\n",
       "       [ 0.15047538],\n",
       "       [ 0.3813906 ],\n",
       "       [ 0.34285834],\n",
       "       [ 0.99871624],\n",
       "       [ 0.81596631],\n",
       "       [ 0.22687824],\n",
       "       [ 0.99814487],\n",
       "       [ 0.13575198],\n",
       "       [ 0.65868151],\n",
       "       [ 0.346432  ],\n",
       "       [ 0.4985092 ],\n",
       "       [ 0.91063327],\n",
       "       [ 0.28112766],\n",
       "       [ 0.37519136],\n",
       "       [ 0.39185223],\n",
       "       [ 0.8579582 ],\n",
       "       [ 0.14641511],\n",
       "       [ 0.96348286],\n",
       "       [ 0.06419235],\n",
       "       [ 0.64228094],\n",
       "       [ 0.9498015 ],\n",
       "       [ 0.68417853],\n",
       "       [ 0.58851236],\n",
       "       [ 0.32604486],\n",
       "       [ 0.97824097],\n",
       "       [ 0.09686585],\n",
       "       [ 0.1193103 ],\n",
       "       [ 0.3288992 ],\n",
       "       [ 0.51857287],\n",
       "       [ 0.23805669],\n",
       "       [ 0.95890588],\n",
       "       [ 0.29555508],\n",
       "       [ 0.46998015],\n",
       "       [ 0.49328873],\n",
       "       [ 0.17229538],\n",
       "       [ 0.18590267],\n",
       "       [ 0.02932503],\n",
       "       [ 0.21464337],\n",
       "       [ 0.99171656],\n",
       "       [ 0.96530491],\n",
       "       [ 0.34475479],\n",
       "       [ 0.26627591],\n",
       "       [ 0.57030451],\n",
       "       [ 0.49619424],\n",
       "       [ 0.33524677],\n",
       "       [ 0.949821  ],\n",
       "       [ 0.29414558],\n",
       "       [ 0.62079328],\n",
       "       [ 0.23967172],\n",
       "       [ 0.98385447],\n",
       "       [ 0.41949868],\n",
       "       [ 0.18571611],\n",
       "       [ 0.97501945],\n",
       "       [ 0.06957923],\n",
       "       [ 0.59368682],\n",
       "       [ 0.18559869],\n",
       "       [ 0.23947224],\n",
       "       [ 0.99752182],\n",
       "       [ 0.9789381 ],\n",
       "       [ 0.1933396 ],\n",
       "       [ 0.0099028 ],\n",
       "       [ 0.13135298],\n",
       "       [ 0.96225154],\n",
       "       [ 0.99805045],\n",
       "       [ 0.97771114],\n",
       "       [ 0.11568426],\n",
       "       [ 0.50120008],\n",
       "       [ 0.46696886],\n",
       "       [ 0.98541749],\n",
       "       [ 0.01688122],\n",
       "       [ 0.04641251],\n",
       "       [ 0.90384871],\n",
       "       [ 0.3819451 ],\n",
       "       [ 0.48694706],\n",
       "       [ 0.53529704],\n",
       "       [ 0.9784736 ],\n",
       "       [ 0.17896861],\n",
       "       [ 0.14633694],\n",
       "       [ 0.85936445],\n",
       "       [ 0.13441741],\n",
       "       [ 0.49308419],\n",
       "       [ 0.2621426 ],\n",
       "       [ 0.33392057],\n",
       "       [ 0.51333511],\n",
       "       [ 0.18270607],\n",
       "       [ 0.3371349 ],\n",
       "       [ 0.34917143],\n",
       "       [ 0.04718099],\n",
       "       [ 0.99669856],\n",
       "       [ 0.31049582],\n",
       "       [ 0.47655562],\n",
       "       [ 0.08103445],\n",
       "       [ 0.46926174],\n",
       "       [ 0.35600576],\n",
       "       [ 0.65182847],\n",
       "       [ 0.05437587],\n",
       "       [ 0.24317165],\n",
       "       [ 0.46374688],\n",
       "       [ 0.64085591],\n",
       "       [ 0.23627651],\n",
       "       [ 0.22827446],\n",
       "       [ 0.55961883],\n",
       "       [ 0.44929934],\n",
       "       [ 0.99884629],\n",
       "       [ 0.5230338 ],\n",
       "       [ 0.2891947 ],\n",
       "       [ 0.99997318],\n",
       "       [ 0.49486718],\n",
       "       [ 0.78196102],\n",
       "       [ 0.08465157],\n",
       "       [ 0.09192556],\n",
       "       [ 0.0973338 ],\n",
       "       [ 0.998353  ],\n",
       "       [ 0.11414091],\n",
       "       [ 0.08727971],\n",
       "       [ 0.31176427],\n",
       "       [ 0.17520598],\n",
       "       [ 0.4743731 ],\n",
       "       [ 0.93074363],\n",
       "       [ 0.16047351],\n",
       "       [ 0.11343489],\n",
       "       [ 0.75684625],\n",
       "       [ 0.98205322],\n",
       "       [ 0.44275519],\n",
       "       [ 0.22273116],\n",
       "       [ 0.57176131],\n",
       "       [ 0.16431889],\n",
       "       [ 0.36145258],\n",
       "       [ 0.66581905],\n",
       "       [ 0.97174114],\n",
       "       [ 0.3120001 ],\n",
       "       [ 0.5815376 ],\n",
       "       [ 0.34592828],\n",
       "       [ 0.3348425 ],\n",
       "       [ 0.52901834],\n",
       "       [ 0.25922048],\n",
       "       [ 0.16440304],\n",
       "       [ 0.37950236],\n",
       "       [ 0.17705135],\n",
       "       [ 0.39364764],\n",
       "       [ 0.25624079],\n",
       "       [ 0.6453625 ],\n",
       "       [ 0.23995599],\n",
       "       [ 0.2722078 ],\n",
       "       [ 0.53989732],\n",
       "       [ 0.96373516],\n",
       "       [ 0.13191716],\n",
       "       [ 0.26822972],\n",
       "       [ 0.23542799],\n",
       "       [ 0.25868973],\n",
       "       [ 0.29269186],\n",
       "       [ 0.22730659],\n",
       "       [ 0.99565315],\n",
       "       [ 0.9991073 ],\n",
       "       [ 0.39258784],\n",
       "       [ 0.25138593],\n",
       "       [ 0.10435683],\n",
       "       [ 0.62343764],\n",
       "       [ 0.13749301],\n",
       "       [ 0.6423375 ],\n",
       "       [ 0.21762522],\n",
       "       [ 0.34444731],\n",
       "       [ 0.9746787 ],\n",
       "       [ 0.82383412],\n",
       "       [ 0.96706969],\n",
       "       [ 0.1400599 ],\n",
       "       [ 0.96100116],\n",
       "       [ 0.33814698],\n",
       "       [ 0.31030533],\n",
       "       [ 0.97797841],\n",
       "       [ 0.84109372],\n",
       "       [ 0.43641484],\n",
       "       [ 0.01938311],\n",
       "       [ 0.25924751],\n",
       "       [ 0.92919117],\n",
       "       [ 0.99991393],\n",
       "       [ 0.10841329],\n",
       "       [ 0.67576295],\n",
       "       [ 0.23985893],\n",
       "       [ 0.34284085],\n",
       "       [ 0.33944595],\n",
       "       [ 0.46044248],\n",
       "       [ 0.73789638],\n",
       "       [ 0.52551174],\n",
       "       [ 0.52219069],\n",
       "       [ 0.12185813],\n",
       "       [ 0.72581613],\n",
       "       [ 0.99669856],\n",
       "       [ 0.96568078],\n",
       "       [ 0.95839411],\n",
       "       [ 0.20906284],\n",
       "       [ 0.14853151],\n",
       "       [ 0.44207329],\n",
       "       [ 0.47910473],\n",
       "       [ 0.66604525],\n",
       "       [ 0.14343102],\n",
       "       [ 0.07844188],\n",
       "       [ 0.18917404],\n",
       "       [ 0.32714629],\n",
       "       [ 0.30591792],\n",
       "       [ 0.41447395],\n",
       "       [ 0.29563987],\n",
       "       [ 0.97381103],\n",
       "       [ 0.78454721],\n",
       "       [ 0.2281294 ],\n",
       "       [ 0.31334975],\n",
       "       [ 0.85066289],\n",
       "       [ 0.26550636],\n",
       "       [ 0.71522027],\n",
       "       [ 0.25554648],\n",
       "       [ 0.45126212],\n",
       "       [ 0.1975192 ],\n",
       "       [ 0.4652698 ],\n",
       "       [ 0.42252719],\n",
       "       [ 0.98696655],\n",
       "       [ 0.35738149],\n",
       "       [ 0.96890837],\n",
       "       [ 0.98960167],\n",
       "       [ 0.15328707],\n",
       "       [ 0.42762211],\n",
       "       [ 0.59826207],\n",
       "       [ 0.29678836],\n",
       "       [ 0.99632281],\n",
       "       [ 0.52900559],\n",
       "       [ 0.22602981],\n",
       "       [ 0.48978749],\n",
       "       [ 0.99352264],\n",
       "       [ 0.14203069],\n",
       "       [ 0.42488945],\n",
       "       [ 0.24178353],\n",
       "       [ 0.22977205],\n",
       "       [ 0.14344276],\n",
       "       [ 0.3284564 ],\n",
       "       [ 0.16930339],\n",
       "       [ 0.33621487],\n",
       "       [ 0.45471531],\n",
       "       [ 0.97406411],\n",
       "       [ 0.74779755],\n",
       "       [ 0.99580491],\n",
       "       [ 0.45557857],\n",
       "       [ 0.2582632 ],\n",
       "       [ 0.35461062],\n",
       "       [ 0.78745544],\n",
       "       [ 0.21178959],\n",
       "       [ 0.97115493],\n",
       "       [ 0.97754639],\n",
       "       [ 0.46006161],\n",
       "       [ 0.41046935],\n",
       "       [ 0.99469626],\n",
       "       [ 0.38519773],\n",
       "       [ 0.51607847],\n",
       "       [ 0.08781973],\n",
       "       [ 0.42519251],\n",
       "       [ 0.61882901],\n",
       "       [ 0.57130873],\n",
       "       [ 0.36012909],\n",
       "       [ 0.35651135],\n",
       "       [ 0.66195077],\n",
       "       [ 0.1235592 ],\n",
       "       [ 0.55461478],\n",
       "       [ 0.17412467],\n",
       "       [ 0.32502428],\n",
       "       [ 0.70405722],\n",
       "       [ 0.98407716],\n",
       "       [ 0.15393858],\n",
       "       [ 0.25506935],\n",
       "       [ 0.32238823],\n",
       "       [ 0.05972848],\n",
       "       [ 0.99369931],\n",
       "       [ 0.18967642],\n",
       "       [ 0.35833851],\n",
       "       [ 0.18750536],\n",
       "       [ 0.5114361 ],\n",
       "       [ 0.46214467],\n",
       "       [ 0.49997401],\n",
       "       [ 0.61243939],\n",
       "       [ 0.46635732],\n",
       "       [ 0.24080205],\n",
       "       [ 0.64186782],\n",
       "       [ 0.77191514],\n",
       "       [ 0.41036895],\n",
       "       [ 0.4338288 ],\n",
       "       [ 0.29248628],\n",
       "       [ 0.28659326],\n",
       "       [ 0.17189668],\n",
       "       [ 0.57743549],\n",
       "       [ 0.99221098],\n",
       "       [ 0.29539493],\n",
       "       [ 0.96533602],\n",
       "       [ 0.28673252],\n",
       "       [ 0.62024981],\n",
       "       [ 0.99732709],\n",
       "       [ 0.45037577],\n",
       "       [ 0.17567642],\n",
       "       [ 0.06876431],\n",
       "       [ 0.45500121],\n",
       "       [ 0.81811088],\n",
       "       [ 0.06662029],\n",
       "       [ 0.53941453],\n",
       "       [ 0.47915661],\n",
       "       [ 0.98474008],\n",
       "       [ 0.98026407],\n",
       "       [ 0.66435432],\n",
       "       [ 0.03147728],\n",
       "       [ 0.29128867],\n",
       "       [ 0.54559821],\n",
       "       [ 0.47285536],\n",
       "       [ 0.47915661],\n",
       "       [ 0.97124022],\n",
       "       [ 0.96579462],\n",
       "       [ 0.62599826],\n",
       "       [ 0.80878377],\n",
       "       [ 0.39260495],\n",
       "       [ 0.7319243 ],\n",
       "       [ 0.99159467],\n",
       "       [ 0.38178071],\n",
       "       [ 0.47577733],\n",
       "       [ 0.8912912 ],\n",
       "       [ 0.9861421 ],\n",
       "       [ 0.99554247],\n",
       "       [ 0.45606178],\n",
       "       [ 0.58851236],\n",
       "       [ 0.67234313],\n",
       "       [ 0.05300094],\n",
       "       [ 0.17350058],\n",
       "       [ 0.40302804],\n",
       "       [ 0.96489698],\n",
       "       [ 0.71215433],\n",
       "       [ 0.96032822],\n",
       "       [ 0.26127139],\n",
       "       [ 0.33094332],\n",
       "       [ 0.62898165],\n",
       "       [ 0.45268804],\n",
       "       [ 0.79936242],\n",
       "       [ 0.99909401],\n",
       "       [ 0.15650734],\n",
       "       [ 0.53580022],\n",
       "       [ 0.94535589],\n",
       "       [ 0.37767434],\n",
       "       [ 0.84588307],\n",
       "       [ 0.05772427],\n",
       "       [ 0.18866175],\n",
       "       [ 0.24001427],\n",
       "       [ 0.12959583],\n",
       "       [ 0.05965442],\n",
       "       [ 0.44244292],\n",
       "       [ 0.5315513 ],\n",
       "       [ 0.36813816],\n",
       "       [ 0.16253632],\n",
       "       [ 0.26911086],\n",
       "       [ 0.08312318],\n",
       "       [ 0.49441764],\n",
       "       [ 0.48180276],\n",
       "       [ 0.07154142],\n",
       "       [ 0.976915  ],\n",
       "       [ 0.35207096],\n",
       "       [ 0.99470156],\n",
       "       [ 0.2722685 ],\n",
       "       [ 0.4226898 ],\n",
       "       [ 0.42031866],\n",
       "       [ 0.50758994],\n",
       "       [ 0.99118119],\n",
       "       [ 0.44529569],\n",
       "       [ 0.54617888],\n",
       "       [ 0.21828726],\n",
       "       [ 0.14261042],\n",
       "       [ 0.23364352],\n",
       "       [ 0.42551216],\n",
       "       [ 0.18445823],\n",
       "       [ 0.29090902],\n",
       "       [ 0.39629018],\n",
       "       [ 0.80531549],\n",
       "       [ 0.63296908],\n",
       "       [ 0.52348119],\n",
       "       [ 0.21096179],\n",
       "       [ 0.54374927],\n",
       "       [ 0.11298815],\n",
       "       [ 0.79385477],\n",
       "       [ 0.20675871],\n",
       "       [ 0.74411184],\n",
       "       [ 0.20161277],\n",
       "       [ 0.98392653],\n",
       "       [ 0.98278266],\n",
       "       [ 0.17875603],\n",
       "       [ 0.49682829],\n",
       "       [ 0.976915  ],\n",
       "       [ 0.09216326],\n",
       "       [ 0.99262625],\n",
       "       [ 0.57083899],\n",
       "       [ 0.0516419 ],\n",
       "       [ 0.41594097],\n",
       "       [ 0.21111919],\n",
       "       [ 0.56220007],\n",
       "       [ 0.03423132],\n",
       "       [ 0.10908099],\n",
       "       [ 0.74577636],\n",
       "       [ 0.21776189],\n",
       "       [ 0.0856043 ],\n",
       "       [ 0.22143091],\n",
       "       [ 0.52967   ],\n",
       "       [ 0.50753921],\n",
       "       [ 0.42570144],\n",
       "       [ 0.09351216],\n",
       "       [ 0.37108582],\n",
       "       [ 0.71748722],\n",
       "       [ 0.50118893],\n",
       "       [ 0.12520421],\n",
       "       [ 0.98077494],\n",
       "       [ 0.35541907],\n",
       "       [ 0.78901011],\n",
       "       [ 0.5548023 ],\n",
       "       [ 0.34557569],\n",
       "       [ 0.71217626],\n",
       "       [ 0.30244204],\n",
       "       [ 0.31385469],\n",
       "       [ 0.2154208 ],\n",
       "       [ 0.98273271],\n",
       "       [ 0.99796683],\n",
       "       [ 0.4352884 ],\n",
       "       [ 0.65394717],\n",
       "       [ 0.36562312],\n",
       "       [ 0.13053374],\n",
       "       [ 0.36380845],\n",
       "       [ 0.2937054 ],\n",
       "       [ 0.09038088],\n",
       "       [ 0.97189099],\n",
       "       [ 0.59036458],\n",
       "       [ 0.96041256],\n",
       "       [ 0.93235475],\n",
       "       [ 0.30597669],\n",
       "       [ 0.2929056 ],\n",
       "       [ 0.44707617],\n",
       "       [ 0.05788845],\n",
       "       [ 0.18941239],\n",
       "       [ 0.18404949],\n",
       "       [ 0.97449374],\n",
       "       [ 0.0806857 ],\n",
       "       [ 0.26094329],\n",
       "       [ 0.31221372],\n",
       "       [ 0.99830604],\n",
       "       [ 0.84529001],\n",
       "       [ 0.35685563],\n",
       "       [ 0.78456837],\n",
       "       [ 0.19482107],\n",
       "       [ 0.47645524],\n",
       "       [ 0.49305364],\n",
       "       [ 0.97599006],\n",
       "       [ 0.87279177],\n",
       "       [ 0.23218906],\n",
       "       [ 0.6297527 ],\n",
       "       [ 0.48373449],\n",
       "       [ 0.40128961],\n",
       "       [ 0.98510587],\n",
       "       [ 0.1141228 ],\n",
       "       [ 0.9887417 ],\n",
       "       [ 0.04396107],\n",
       "       [ 0.6267674 ],\n",
       "       [ 0.09537349],\n",
       "       [ 0.99804997],\n",
       "       [ 0.96534091],\n",
       "       [ 0.99812502],\n",
       "       [ 0.10360842],\n",
       "       [ 0.47854069],\n",
       "       [ 0.97227544],\n",
       "       [ 0.58305609],\n",
       "       [ 0.95450717],\n",
       "       [ 0.44294479],\n",
       "       [ 0.98824269],\n",
       "       [ 0.98193115],\n",
       "       [ 0.9170258 ],\n",
       "       [ 0.96940434],\n",
       "       [ 0.95406288],\n",
       "       [ 0.22275572],\n",
       "       [ 0.21471664],\n",
       "       [ 0.3199065 ],\n",
       "       [ 0.87154382],\n",
       "       [ 0.99919945],\n",
       "       [ 0.84747326],\n",
       "       [ 0.2107344 ],\n",
       "       [ 0.97832137],\n",
       "       [ 0.14316936],\n",
       "       [ 0.99521208],\n",
       "       [ 0.30916843],\n",
       "       [ 0.96088403],\n",
       "       [ 0.04324662],\n",
       "       [ 0.20738368],\n",
       "       [ 0.94909281],\n",
       "       [ 0.17821963],\n",
       "       [ 0.20786932],\n",
       "       [ 0.13056633],\n",
       "       [ 0.03550398],\n",
       "       [ 0.70133513],\n",
       "       [ 0.29497987],\n",
       "       [ 0.2060155 ],\n",
       "       [ 0.17721273],\n",
       "       [ 0.98037386],\n",
       "       [ 0.62238079],\n",
       "       [ 0.36286753],\n",
       "       [ 0.15990959],\n",
       "       [ 0.30174676],\n",
       "       [ 0.35432473],\n",
       "       [ 0.43709725],\n",
       "       [ 0.37312055],\n",
       "       [ 0.16059417],\n",
       "       [ 0.12440611],\n",
       "       [ 0.34728092],\n",
       "       [ 0.42145887],\n",
       "       [ 0.97663963],\n",
       "       [ 0.22474998],\n",
       "       [ 0.46469399],\n",
       "       [ 0.98222262],\n",
       "       [ 0.45072526],\n",
       "       [ 0.45979846],\n",
       "       [ 0.01368931],\n",
       "       [ 0.40179351],\n",
       "       [ 0.179104  ],\n",
       "       [ 0.24669975],\n",
       "       [ 0.23380616],\n",
       "       [ 0.03746049],\n",
       "       [ 0.98781139],\n",
       "       [ 0.35858363],\n",
       "       [ 0.70049953],\n",
       "       [ 0.95646757],\n",
       "       [ 0.65869963],\n",
       "       [ 0.05821041],\n",
       "       [ 0.3973152 ],\n",
       "       [ 0.98207712],\n",
       "       [ 0.34323707],\n",
       "       [ 0.32575956],\n",
       "       [ 0.05909792],\n",
       "       [ 0.25846362],\n",
       "       [ 0.9942286 ],\n",
       "       [ 0.7773183 ],\n",
       "       [ 0.98650891],\n",
       "       [ 0.35063112],\n",
       "       [ 0.77912205],\n",
       "       [ 0.86187857],\n",
       "       [ 0.10250021],\n",
       "       [ 0.06701952],\n",
       "       [ 0.987005  ],\n",
       "       [ 0.38106343],\n",
       "       [ 0.28016835],\n",
       "       [ 0.57084644],\n",
       "       [ 0.03244427],\n",
       "       [ 0.3439905 ],\n",
       "       [ 0.11320029],\n",
       "       [ 0.29532886],\n",
       "       [ 0.27842316],\n",
       "       [ 0.06476071],\n",
       "       [ 0.50755733],\n",
       "       [ 0.60546958],\n",
       "       [ 0.22769718],\n",
       "       [ 0.34568071],\n",
       "       [ 0.76316577],\n",
       "       [ 0.56327903],\n",
       "       [ 0.22053352],\n",
       "       [ 0.06382307],\n",
       "       [ 0.46845442],\n",
       "       [ 0.40287468],\n",
       "       [ 0.46965697],\n",
       "       [ 0.21286733],\n",
       "       [ 0.39804283],\n",
       "       [ 0.57705325],\n",
       "       [ 0.22148266],\n",
       "       [ 0.54056805],\n",
       "       [ 0.53321946],\n",
       "       [ 0.4945046 ],\n",
       "       [ 0.98442972],\n",
       "       [ 0.16403057],\n",
       "       [ 0.40783459],\n",
       "       [ 0.21528898],\n",
       "       [ 0.77943707],\n",
       "       [ 0.46382996],\n",
       "       [ 0.10992341],\n",
       "       [ 0.27538919],\n",
       "       [ 0.02682388],\n",
       "       [ 0.99028581],\n",
       "       [ 0.97797841],\n",
       "       [ 0.37893045],\n",
       "       [ 0.98791355],\n",
       "       [ 0.51818722],\n",
       "       [ 0.24429755],\n",
       "       [ 0.95846695],\n",
       "       [ 0.78453332],\n",
       "       [ 0.45203111],\n",
       "       [ 0.62110245],\n",
       "       [ 0.67272639],\n",
       "       [ 0.9127236 ],\n",
       "       [ 0.39731225],\n",
       "       [ 0.33308309],\n",
       "       [ 0.2225762 ],\n",
       "       [ 0.49757564],\n",
       "       [ 0.19259639],\n",
       "       [ 0.30014473],\n",
       "       [ 0.17083216],\n",
       "       [ 0.99273574],\n",
       "       [ 0.56503707],\n",
       "       [ 0.07309284],\n",
       "       [ 0.20656398],\n",
       "       [ 0.34470853],\n",
       "       [ 0.96685636],\n",
       "       [ 0.49751112],\n",
       "       [ 0.99968761],\n",
       "       [ 0.14246263],\n",
       "       [ 0.38946995],\n",
       "       [ 0.38874295],\n",
       "       [ 0.38142693],\n",
       "       [ 0.99430293],\n",
       "       [ 0.37786022],\n",
       "       [ 0.17550313],\n",
       "       [ 0.82669622],\n",
       "       [ 0.26361361],\n",
       "       [ 0.57979476],\n",
       "       [ 0.55386651],\n",
       "       [ 0.10778533],\n",
       "       [ 0.99966645],\n",
       "       [ 0.45450324],\n",
       "       [ 0.52179176],\n",
       "       [ 0.1491871 ],\n",
       "       [ 0.67548287],\n",
       "       [ 0.97562796],\n",
       "       [ 0.55961883],\n",
       "       [ 0.99042237],\n",
       "       [ 0.24146561],\n",
       "       [ 0.99374133],\n",
       "       [ 0.37874287],\n",
       "       [ 0.53874528],\n",
       "       [ 0.42467523],\n",
       "       [ 0.09291355],\n",
       "       [ 0.37872764],\n",
       "       [ 0.36417502],\n",
       "       [ 0.69989157],\n",
       "       [ 0.98453707],\n",
       "       [ 0.15184475],\n",
       "       [ 0.35432112],\n",
       "       [ 0.30682883],\n",
       "       [ 0.44413096],\n",
       "       [ 0.82258713],\n",
       "       [ 0.14375873],\n",
       "       [ 0.41417542],\n",
       "       [ 0.22007312],\n",
       "       [ 0.19590017],\n",
       "       [ 0.97887367],\n",
       "       [ 0.43049622],\n",
       "       [ 0.75346816],\n",
       "       [ 0.96114564],\n",
       "       [ 0.28668234],\n",
       "       [ 0.33361852],\n",
       "       [ 0.86997116],\n",
       "       [ 0.97290343],\n",
       "       [ 0.39259285],\n",
       "       [ 0.99866426],\n",
       "       [ 0.60208559],\n",
       "       [ 0.49393338],\n",
       "       [ 0.46162722],\n",
       "       [ 0.49544007],\n",
       "       [ 0.19793138],\n",
       "       [ 0.71572763],\n",
       "       [ 0.96807319],\n",
       "       [ 0.69175071],\n",
       "       [ 0.53046721],\n",
       "       [ 0.99669856],\n",
       "       [ 0.99266666],\n",
       "       [ 0.97664309],\n",
       "       [ 0.26714128],\n",
       "       [ 0.36525294],\n",
       "       [ 0.95376986],\n",
       "       [ 0.83921462],\n",
       "       [ 0.82364589],\n",
       "       [ 0.99565315],\n",
       "       [ 0.83414835],\n",
       "       [ 0.46261689],\n",
       "       [ 0.26779377],\n",
       "       [ 0.2862168 ],\n",
       "       [ 0.32784563],\n",
       "       [ 0.21950467],\n",
       "       [ 0.48374465],\n",
       "       [ 0.96381861],\n",
       "       [ 0.08212361],\n",
       "       [ 0.43276742],\n",
       "       [ 0.10519033],\n",
       "       [ 0.20699169],\n",
       "       [ 0.35985646],\n",
       "       [ 0.03949904],\n",
       "       [ 0.57421988],\n",
       "       [ 0.25928211],\n",
       "       [ 0.49935704],\n",
       "       [ 0.74312651],\n",
       "       [ 0.46251604],\n",
       "       [ 0.4615072 ],\n",
       "       [ 0.15140679],\n",
       "       [ 0.46352857],\n",
       "       [ 0.13372393],\n",
       "       [ 0.77973068],\n",
       "       [ 0.10079821],\n",
       "       [ 0.97416878],\n",
       "       [ 0.75069577],\n",
       "       [ 0.97566664],\n",
       "       [ 0.37635121],\n",
       "       [ 0.03435261],\n",
       "       [ 0.17806548],\n",
       "       [ 0.04235179],\n",
       "       [ 0.75385243],\n",
       "       [ 0.72425252],\n",
       "       [ 0.41041288],\n",
       "       [ 0.08560538],\n",
       "       [ 0.9699744 ],\n",
       "       [ 0.57154632],\n",
       "       [ 0.50294447],\n",
       "       [ 0.7794649 ],\n",
       "       [ 0.28836569],\n",
       "       [ 0.67660618],\n",
       "       [ 0.59730387],\n",
       "       [ 0.23028484],\n",
       "       [ 0.73700237],\n",
       "       [ 0.05390259],\n",
       "       [ 0.04286921],\n",
       "       [ 0.48509386],\n",
       "       [ 0.97655755],\n",
       "       [ 0.98483384],\n",
       "       [ 0.33162564],\n",
       "       [ 0.25511169],\n",
       "       [ 0.41636312],\n",
       "       [ 0.2839236 ],\n",
       "       [ 0.26775312],\n",
       "       [ 0.24103901],\n",
       "       [ 0.37544233],\n",
       "       [ 0.32482013],\n",
       "       [ 0.97762102],\n",
       "       [ 0.99927741],\n",
       "       [ 0.43572628],\n",
       "       [ 0.28045851],\n",
       "       [ 0.78887594],\n",
       "       [ 0.67799789],\n",
       "       [ 0.32992366],\n",
       "       [ 0.14370301],\n",
       "       [ 0.18955994],\n",
       "       [ 0.51787752],\n",
       "       [ 0.05942623],\n",
       "       [ 0.05291454],\n",
       "       [ 0.99289203]], dtype=float32)"
      ]
     },
     "execution_count": 48,
     "metadata": {},
     "output_type": "execute_result"
    }
   ],
   "source": [
    "presd(vectoriz(X[in_test]).reshape((-1, 2, 300)))"
   ]
  },
  {
   "cell_type": "code",
   "execution_count": null,
   "metadata": {
    "collapsed": true
   },
   "outputs": [],
   "source": []
  }
 ],
 "metadata": {
  "anaconda-cloud": {},
  "kernelspec": {
   "display_name": "Python 3",
   "language": "python",
   "name": "python3"
  },
  "language_info": {
   "codemirror_mode": {
    "name": "ipython",
    "version": 3
   },
   "file_extension": ".py",
   "mimetype": "text/x-python",
   "name": "python",
   "nbconvert_exporter": "python",
   "pygments_lexer": "ipython3",
   "version": "3.5.2"
  },
  "widgets": {
   "state": {
    "07020d92a8824c7daba0b5f9b30d24f7": {
     "views": [
      {
       "cell_index": 51
      }
     ]
    },
    "0b057942b42244fea4a523f786ed1ee8": {
     "views": [
      {
       "cell_index": 16
      }
     ]
    },
    "12f78e7f8ea447099502424600a78f07": {
     "views": [
      {
       "cell_index": 52
      }
     ]
    },
    "13e3480a25e349039ce548db4d58f578": {
     "views": [
      {
       "cell_index": 52
      }
     ]
    },
    "2a8260d8a0114bf695a68cb4f6827ba4": {
     "views": [
      {
       "cell_index": 52
      }
     ]
    },
    "304961159076480ca3a9fe334ca32e2a": {
     "views": [
      {
       "cell_index": 52
      }
     ]
    },
    "33b672c5f3f84f999a25de724e2d7e5b": {
     "views": [
      {
       "cell_index": 52
      }
     ]
    },
    "3561047722444c28b81f9f3bef4d859f": {
     "views": [
      {
       "cell_index": 52
      }
     ]
    },
    "364cc105c8b44d27803fb220242e08d6": {
     "views": [
      {
       "cell_index": 52
      }
     ]
    },
    "37f9140e10704f3c9d4047ab44038ebf": {
     "views": [
      {
       "cell_index": 52
      }
     ]
    },
    "3c630d4f7dae4f57ac7cbab46093084b": {
     "views": [
      {
       "cell_index": 16
      }
     ]
    },
    "3f7208857521442b8d6fd6a3f60f9743": {
     "views": [
      {
       "cell_index": 52
      }
     ]
    },
    "43ae7cab29894b4f99c6113b9ce1fbbc": {
     "views": [
      {
       "cell_index": 52
      }
     ]
    },
    "4d84f47223d14e1793469e3648e1a16e": {
     "views": [
      {
       "cell_index": 52
      }
     ]
    },
    "4de7ee8bfbbd41609d000986242e23fe": {
     "views": [
      {
       "cell_index": 52
      }
     ]
    },
    "4f43186ce5bb44bbb92bad5ed498c5b6": {
     "views": [
      {
       "cell_index": 52
      }
     ]
    },
    "54abb309afcd4d3d844e6f317cc08a0a": {
     "views": [
      {
       "cell_index": 52
      }
     ]
    },
    "561016b9bdc14d63ade96c1c66b8cfde": {
     "views": [
      {
       "cell_index": 16
      }
     ]
    },
    "581a5b0e036f441e972ebb93e602b089": {
     "views": [
      {
       "cell_index": 52
      }
     ]
    },
    "65ef4ca340fb4772a44949acc45a6d06": {
     "views": [
      {
       "cell_index": 52
      }
     ]
    },
    "70b95355eba7420fb2198b63960b141a": {
     "views": [
      {
       "cell_index": 51
      }
     ]
    },
    "732b9d371d5f462890ee4c1b510a59a2": {
     "views": [
      {
       "cell_index": 52
      }
     ]
    },
    "7a028dc351ea452ba6bba204c7777bf7": {
     "views": [
      {
       "cell_index": 52
      }
     ]
    },
    "8f13433ad80a4842bc5a1fce6109544d": {
     "views": [
      {
       "cell_index": 52
      }
     ]
    },
    "92f1a3d9d8fe477d805542b3d9fa0c5b": {
     "views": [
      {
       "cell_index": 51
      }
     ]
    },
    "9b3287501dd046798b24bda4e5005de6": {
     "views": [
      {
       "cell_index": 52
      }
     ]
    },
    "9bed8ef1aabf4444b15a833c3acbbb65": {
     "views": [
      {
       "cell_index": 52
      }
     ]
    },
    "9c0d59b820dc498c898a0af924878109": {
     "views": [
      {
       "cell_index": 51
      }
     ]
    },
    "9dfeb3c3fb784592a96e80c3c51c7845": {
     "views": [
      {
       "cell_index": 52
      }
     ]
    },
    "a1f7c74bebf648d6b7e844234570295a": {
     "views": [
      {
       "cell_index": 52
      }
     ]
    },
    "af2eca1d8e2e4166a028163896e2ff05": {
     "views": [
      {
       "cell_index": 52
      }
     ]
    },
    "c3ed84e3f40b42b3b14a481180440e75": {
     "views": [
      {
       "cell_index": 52
      }
     ]
    },
    "c5f742ad9a44431a861757a0ed549ddb": {
     "views": [
      {
       "cell_index": 52
      }
     ]
    },
    "c8f8e2acec9e4ddbb05ec7dd655181be": {
     "views": [
      {
       "cell_index": 52
      }
     ]
    },
    "cadabb507df94717a43015a63e584a01": {
     "views": [
      {
       "cell_index": 52
      }
     ]
    },
    "cc3311eac8fb465887ba6823a201609d": {
     "views": [
      {
       "cell_index": 16
      }
     ]
    },
    "cfda8c01486c40da93a3b81bf7bbfb0e": {
     "views": [
      {
       "cell_index": 52
      }
     ]
    },
    "d12a94b393fa4c13981f901725c5bbd1": {
     "views": [
      {
       "cell_index": 52
      }
     ]
    },
    "e27d9c6e6c75421aa7d82131e29c0f48": {
     "views": [
      {
       "cell_index": 52
      }
     ]
    },
    "e3bd98dc42714ee1833a1b5f48785ab6": {
     "views": [
      {
       "cell_index": 52
      }
     ]
    }
   },
   "version": "1.2.0"
  }
 },
 "nbformat": 4,
 "nbformat_minor": 1
}
