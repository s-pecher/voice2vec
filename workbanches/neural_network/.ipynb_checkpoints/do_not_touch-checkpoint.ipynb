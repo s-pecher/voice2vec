{
 "cells": [
  {
   "cell_type": "markdown",
   "metadata": {},
   "source": [
    "# Датасет"
   ]
  },
  {
   "cell_type": "code",
   "execution_count": 1,
   "metadata": {
    "collapsed": true
   },
   "outputs": [],
   "source": [
    "# Для того, чтобы получить чиселки из изображения\n",
    "import numpy as np\n",
    "\n",
    "# Для того, чтобы получить изображение\n",
    "from PIL import Image"
   ]
  },
  {
   "cell_type": "code",
   "execution_count": 2,
   "metadata": {
    "collapsed": true
   },
   "outputs": [],
   "source": [
    "def get_spectrogram(img_name):\n",
    "    '''Функция, которая возращает спектограмму по id'''\n",
    "    return np.array(Image.open(\"../../data/images/{}.png\".format(img_name)))"
   ]
  },
  {
   "cell_type": "code",
   "execution_count": 3,
   "metadata": {
    "collapsed": true
   },
   "outputs": [],
   "source": [
    "# Для загрузки и обработки csv с данными\n",
    "import pandas as pd"
   ]
  },
  {
   "cell_type": "code",
   "execution_count": 4,
   "metadata": {
    "collapsed": true
   },
   "outputs": [],
   "source": [
    "# Загрузим данные\n",
    "data = pd.DataFrame.from_csv(\"../../data/pronuns.csv\")"
   ]
  },
  {
   "cell_type": "code",
   "execution_count": 5,
   "metadata": {
    "collapsed": false
   },
   "outputs": [
    {
     "data": {
      "text/html": [
       "<div>\n",
       "<table border=\"1\" class=\"dataframe\">\n",
       "  <thead>\n",
       "    <tr style=\"text-align: right;\">\n",
       "      <th></th>\n",
       "      <th>pronun_rank</th>\n",
       "      <th>_id</th>\n",
       "      <th>visits</th>\n",
       "      <th>gender</th>\n",
       "      <th>word_rank</th>\n",
       "      <th>user</th>\n",
       "      <th>accent</th>\n",
       "      <th>votes</th>\n",
       "      <th>pronun_id</th>\n",
       "      <th>pronuns</th>\n",
       "      <th>best_pronuns</th>\n",
       "      <th>word</th>\n",
       "      <th>when_word_added</th>\n",
       "      <th>global_listenings</th>\n",
       "    </tr>\n",
       "  </thead>\n",
       "  <tbody>\n",
       "    <tr>\n",
       "      <th>0</th>\n",
       "      <td>662</td>\n",
       "      <td>585fc620698f824ee334a626</td>\n",
       "      <td>61503</td>\n",
       "      <td>False</td>\n",
       "      <td>1564</td>\n",
       "      <td>mariad</td>\n",
       "      <td>Spain</td>\n",
       "      <td>0</td>\n",
       "      <td>585fda10698f828c848d862d</td>\n",
       "      <td>573</td>\n",
       "      <td>199</td>\n",
       "      <td>0_zero</td>\n",
       "      <td>2010-04-25</td>\n",
       "      <td>192</td>\n",
       "    </tr>\n",
       "    <tr>\n",
       "      <th>1</th>\n",
       "      <td>21737</td>\n",
       "      <td>585fc7f4698f824ee334afc3</td>\n",
       "      <td>303426</td>\n",
       "      <td>True</td>\n",
       "      <td>14</td>\n",
       "      <td>Wojtula</td>\n",
       "      <td>United States</td>\n",
       "      <td>0</td>\n",
       "      <td>585fda11698f828c848d862e</td>\n",
       "      <td>7</td>\n",
       "      <td>0</td>\n",
       "      <td>11_jedenaście</td>\n",
       "      <td>2013-05-18</td>\n",
       "      <td>638</td>\n",
       "    </tr>\n",
       "    <tr>\n",
       "      <th>2</th>\n",
       "      <td>9</td>\n",
       "      <td>585fc5e7698f824ee334a4ea</td>\n",
       "      <td>162426</td>\n",
       "      <td>False</td>\n",
       "      <td>998</td>\n",
       "      <td>usako_usagiclub</td>\n",
       "      <td>Japan</td>\n",
       "      <td>1</td>\n",
       "      <td>585fda11698f828c848d862f</td>\n",
       "      <td>25504</td>\n",
       "      <td>0</td>\n",
       "      <td>１１９番</td>\n",
       "      <td>2015-06-06</td>\n",
       "      <td>743</td>\n",
       "    </tr>\n",
       "    <tr>\n",
       "      <th>3</th>\n",
       "      <td>228</td>\n",
       "      <td>585fc8e7698f824ee334b4d5</td>\n",
       "      <td>60338</td>\n",
       "      <td>True</td>\n",
       "      <td>13400</td>\n",
       "      <td>SeanMauch</td>\n",
       "      <td>United States</td>\n",
       "      <td>0</td>\n",
       "      <td>585fda11698f828c848d8630</td>\n",
       "      <td>1765</td>\n",
       "      <td>0</td>\n",
       "      <td>12</td>\n",
       "      <td>2008-07-10</td>\n",
       "      <td>57K</td>\n",
       "    </tr>\n",
       "    <tr>\n",
       "      <th>4</th>\n",
       "      <td>153</td>\n",
       "      <td>585fc854698f824ee334b1ca</td>\n",
       "      <td>342195</td>\n",
       "      <td>False</td>\n",
       "      <td>641</td>\n",
       "      <td>anakat</td>\n",
       "      <td>United States</td>\n",
       "      <td>0</td>\n",
       "      <td>585fda11698f828c848d8631</td>\n",
       "      <td>2851</td>\n",
       "      <td>969</td>\n",
       "      <td>12</td>\n",
       "      <td>2008-07-10</td>\n",
       "      <td>57K</td>\n",
       "    </tr>\n",
       "  </tbody>\n",
       "</table>\n",
       "</div>"
      ],
      "text/plain": [
       "   pronun_rank                       _id  visits gender  word_rank  \\\n",
       "0          662  585fc620698f824ee334a626   61503  False       1564   \n",
       "1        21737  585fc7f4698f824ee334afc3  303426   True         14   \n",
       "2            9  585fc5e7698f824ee334a4ea  162426  False        998   \n",
       "3          228  585fc8e7698f824ee334b4d5   60338   True      13400   \n",
       "4          153  585fc854698f824ee334b1ca  342195  False        641   \n",
       "\n",
       "              user         accent  votes                 pronun_id  pronuns  \\\n",
       "0           mariad          Spain      0  585fda10698f828c848d862d      573   \n",
       "1          Wojtula  United States      0  585fda11698f828c848d862e        7   \n",
       "2  usako_usagiclub          Japan      1  585fda11698f828c848d862f    25504   \n",
       "3        SeanMauch  United States      0  585fda11698f828c848d8630     1765   \n",
       "4           anakat  United States      0  585fda11698f828c848d8631     2851   \n",
       "\n",
       "   best_pronuns           word when_word_added global_listenings  \n",
       "0           199         0_zero      2010-04-25               192  \n",
       "1             0  11_jedenaście      2013-05-18               638  \n",
       "2             0           １１９番      2015-06-06               743  \n",
       "3             0             12      2008-07-10               57K  \n",
       "4           969             12      2008-07-10               57K  "
      ]
     },
     "execution_count": 5,
     "metadata": {},
     "output_type": "execute_result"
    }
   ],
   "source": [
    "# Проверим\n",
    "data.head()"
   ]
  },
  {
   "cell_type": "code",
   "execution_count": null,
   "metadata": {
    "collapsed": true
   },
   "outputs": [],
   "source": []
  }
 ],
 "metadata": {
  "anaconda-cloud": {},
  "kernelspec": {
   "display_name": "Python 3",
   "language": "python",
   "name": "python3"
  },
  "language_info": {
   "codemirror_mode": {
    "name": "ipython",
    "version": 3
   },
   "file_extension": ".py",
   "mimetype": "text/x-python",
   "name": "python",
   "nbconvert_exporter": "python",
   "pygments_lexer": "ipython3",
   "version": "3.5.2"
  }
 },
 "nbformat": 4,
 "nbformat_minor": 1
}
